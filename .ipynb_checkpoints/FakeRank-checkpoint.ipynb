{
 "cells": [
  {
   "cell_type": "markdown",
   "metadata": {},
   "source": [
    "# FakeRank\n",
    "Hrishi Dharam, Eilam Levitov  \n",
    "March 16, 2017  "
   ]
  },
  {
   "cell_type": "markdown",
   "metadata": {},
   "source": [
    "### Abstract \n"
   ]
  },
  {
   "cell_type": "code",
   "execution_count": 18,
   "metadata": {
    "collapsed": false
   },
   "outputs": [],
   "source": [
    "import numpy as np\n",
    "import util # Linear Algebra/PageRank\n",
    "from util import PersonalizedPageRank as ppr \n",
    "import misc # Random libraries and graphing\n",
    "import matplotlib.pyplot as plt\n",
    "import ipywidgets as widgets\n",
    "from __future__ import division\n",
    "%matplotlib inline  "
   ]
  },
  {
   "cell_type": "code",
   "execution_count": 2,
   "metadata": {
    "collapsed": false
   },
   "outputs": [],
   "source": [
    "# 1) Google Search\n",
    "inputText = widgets.Text()\n",
    "inputText"
   ]
  },
  {
   "cell_type": "code",
   "execution_count": 19,
   "metadata": {
    "collapsed": false
   },
   "outputs": [
    {
     "data": {
      "text/plain": [
       "'trump russia'"
      ]
     },
     "execution_count": 19,
     "metadata": {},
     "output_type": "execute_result"
    }
   ],
   "source": [
    "inputText.value.decode('unicode_escape').encode('ascii','ignore')"
   ]
  },
  {
   "cell_type": "code",
   "execution_count": 20,
   "metadata": {
    "collapsed": false
   },
   "outputs": [
    {
     "name": "stdout",
     "output_type": "stream",
     "text": [
      "Retrieving pages...\n",
      "http://www.cnn.com/2017/03/14/politics/wiretapping-congressional-investigation/\n",
      "http://www.nbcnews.com/news/us-news/clinton-ally-says-smoke-no-fire-no-russia-trump-collusion-n734176\n",
      "https://www.bloomberg.com/news/articles/2017-03-16/behind-trump-s-russia-romance-there-s-a-tower-full-of-oligarchs\n",
      "http://www.politico.com/story/2017/03/russia-trump-takeaways-hearings-236100\n",
      "http://www.cnn.com/2017/02/15/politics/trump-russia-issues/\n",
      "https://www.washingtonpost.com/blogs/right-turn/wp/2017/03/14/look-whos-going-after-trumps-russia-scandal/\n",
      "http://www.bbc.com/news/world-us-canada-38966846\n",
      "https://www.thestar.com/news/world/2017/03/15/on-the-russian-front-trump-is-isolated-even-in-his-own-government.html\n",
      "http://www.theblaze.com/news/2017/03/14/breaking-fbi-director-comey-may-go-public-on-trump-russia-probe/\n",
      "https://en.wikipedia.org/wiki/Donald_Trump%E2%80%93Russia_dossier\n",
      "https://www.nytimes.com/2017/02/14/us/politics/russia-intelligence-communications-trump.html\n",
      "http://thehill.com/homenews/senate/324151-grassley-says-law-enforcement-officials-withholding-information-on-trump\n",
      "https://swalwell.house.gov/issues/russia-influence-trump-his-team\n",
      "https://swalwell.house.gov/issues/russia-trump-his-administration-s-ties\n",
      "http://www.huffingtonpost.com/entry/trump-russia-timeline_us_58c2eec2e4b054a0ea6a744e\n",
      "http://billmoyers.com/story/the-trump-resistance-plan-a-timeline-russia-and-president-trump/\n",
      "https://www.rawstory.com/2017/03/senate-intel-leaders-feinstein-and-grassley-grim-and-silent-after-trump-russia-briefings-with-comey/\n",
      "http://circa.com/politics/accountability/hillary-clinton-donor-pushed-trump-russia-computer-narrative-investigated-by-fbi\n",
      "http://www.breitbart.com/big-journalism/2017/03/15/rachel-maddow-trump-tax-return-russia/\n",
      "http://www.newyorker.com/magazine/2017/03/06/trump-putin-and-the-new-cold-war\n",
      "http://nymag.com/daily/intelligencer/2017/03/senator-comey-to-disclose-any-trump-russia-probe-tomorrow.html\n",
      "http://www.motherjones.com/politics/2017/02/donald-trump-cant-come-clean-on-russia-michael-flynn\n",
      "https://www.usnews.com/opinion/thomas-jefferson-street/articles/2017-03-14/democrats-must-connect-donald-trump-white-nationalism-and-russia\n",
      "http://www.independent.co.uk/news/world/americas/msnbc-rachel-maddow-donald-trump-tax-return-russia-links-tv-reporter-us-viewers-sergey-kislyak-a7630831.html\n",
      "http://www.mypalmbeachpost.com/news/national-govt--politics/yachts-trump-financial-backer-russian-oligarch-seen-close-together/gI074W3JLqvEYrQ0hm9zlN/\n",
      "http://www.chicagotribune.com/news/nationworld/ct-roger-stone-guccifer-20170315-story.html\n",
      "http://www.nationalreview.com/article/445736/donald-trump-russia-obamacare-repeal\n",
      "https://www.aol.com/article/news/2017/03/15/fbi-director-james-comey-publicly-testify-trump-russia-investigation/21895564/\n",
      "https://newrepublic.com/article/141272/trump-russia-story-not-diversion\n",
      "Pages retrieved\n",
      "9.14340615273\n"
     ]
    }
   ],
   "source": [
    "links = misc.gSearch(str(inputText.value.decode('unicode_escape').encode('ascii','ignore')))"
   ]
  },
  {
   "cell_type": "code",
   "execution_count": 21,
   "metadata": {
    "collapsed": false
   },
   "outputs": [
    {
     "name": "stdout",
     "output_type": "stream",
     "text": [
      "29\n"
     ]
    }
   ],
   "source": [
    "print len(links)"
   ]
  },
  {
   "cell_type": "code",
   "execution_count": 23,
   "metadata": {
    "collapsed": false
   },
   "outputs": [
    {
     "name": "stdout",
     "output_type": "stream",
     "text": [
      "Generating similarity vectors...\n",
      "10\n",
      "Similarity Matrix computed\n",
      "30.5326159\n"
     ]
    }
   ],
   "source": [
    "# 2) Create Similarity Matrix\n",
    "mtx = misc.simMatrix(links)"
   ]
  },
  {
   "cell_type": "code",
   "execution_count": 10,
   "metadata": {
    "collapsed": false
   },
   "outputs": [
    {
     "name": "stdout",
     "output_type": "stream",
     "text": [
      "[]\n"
     ]
    }
   ],
   "source": [
    "for i in sorted(badIndeces, reverse=True):\n",
    "    mtx = np.delete(mtx, i, axis = 1)\n",
    "    mtx = np.delete(mtx, i, axis = 0)\n",
    "badIndeces = [i for i in range(mtx.shape[0]) if sum(mtx[i]) == 0]\n",
    "print badIndeces\n",
    "    "
   ]
  },
  {
   "cell_type": "code",
   "execution_count": 14,
   "metadata": {
    "collapsed": false
   },
   "outputs": [
    {
     "name": "stdout",
     "output_type": "stream",
     "text": [
      "[[ 0.          0.05        0.05       ...,  0.05        0.          0.05      ]\n",
      " [ 0.05555556  0.          0.05555556 ...,  0.05555556  0.          0.05555556]\n",
      " [ 0.05        0.05        0.         ...,  0.05        0.          0.05      ]\n",
      " ..., \n",
      " [ 0.03571429  0.03571429  0.03571429 ...,  0.          0.          0.03571429]\n",
      " [ 0.          0.          0.         ...,  0.          0.          0.        ]\n",
      " [ 0.05        0.05        0.05       ...,  0.05        0.          0.        ]]\n"
     ]
    },
    {
     "data": {
      "image/png": "[encoded data removed]",
      "text/plain": [
       "<matplotlib.figure.Figure at 0x111003dd0>"
      ]
     },
     "metadata": {},
     "output_type": "display_data"
    },
    {
     "name": "stdout",
     "output_type": "stream",
     "text": [
      "choose alpha=.05\n",
      "4.06827096503\n"
     ]
    }
   ],
   "source": [
    "clustering = ppr(adjacencyMatrix = mtx, alpha = .1)\n",
    "print clustering.transitionMatrix\n",
    "v = [clustering.prVariance(alpha) for alpha in np.arange(0,.5,.01)]\n",
    "plt.plot(np.arange(0, .5, .01), v)\n",
    "plt.plot(np.arange(0, .5, .01), [clustering.clusterVariance(alpha) for alpha in np.arange(0, .5, .01)])\n",
    "plt.show()\n",
    "print 'choose alpha=.05'\n",
    "print clustering.prVariance(.03)"
   ]
  },
  {
   "cell_type": "code",
   "execution_count": 15,
   "metadata": {
    "collapsed": false
   },
   "outputs": [
    {
     "name": "stdout",
     "output_type": "stream",
     "text": [
      "[ 0.03215317  0.02899165  0.03215317  0.03215317  0.02134192  0.00553131\n",
      "  0.02437607  0.0369998   0.01494887  0.02275137  0.01223121  0.02991992\n",
      "  0.00401777  0.03377599  0.00401324  0.03864944  0.02795419  0.00718125\n",
      "  0.01354429  0.04704752  0.05179786  0.04675656  0.04700053  0.01500722\n",
      "  0.0281508   0.02754764  0.04675656  0.02287436  0.02454919  0.04016453\n",
      "  0.03062695  0.03224656  0.03378816  0.04508547  0.00573561  0.0321767 ]\n",
      "[ 0.03257329  0.02931596  0.03257329  0.03257329  0.02117264  0.00488599\n",
      "  0.02442997  0.03745928  0.01465798  0.0228013   0.01140065  0.02931596\n",
      "  0.00325733  0.03420195  0.00325733  0.03908795  0.0276873   0.00651466\n",
      "  0.01302932  0.04723127  0.05211726  0.04723127  0.04723127  0.01465798\n",
      "  0.0276873   0.0276873   0.04723127  0.0228013   0.02442997  0.04071661\n",
      "  0.03094463  0.03257329  0.03420195  0.04560261  0.00488599  0.03257329]\n"
     ]
    }
   ],
   "source": [
    "stationaryDist = 1/clustering.n * sum(clustering.getHubVectors())\n",
    "\n",
    "v = clustering.pageRank()\n",
    "print stationaryDist\n",
    "print v"
   ]
  },
  {
   "cell_type": "code",
   "execution_count": 16,
   "metadata": {
    "collapsed": false
   },
   "outputs": [],
   "source": [
    "#Fix k, the number of centers you want to find\n",
    "k=5\n",
    "#fix c, the number of samples\n",
    "c = 10\n",
    "#Fix alpha of your choice\n",
    "alpha = .1\n",
    "n = len(stationaryDist)\n",
    "samples = np.random.choice(n, p=stationaryDist, size=(c, k))\n",
    "\n",
    "bestCenters = samples[0]\n",
    "bestVal = float(\"inf\")\n",
    "for centers in samples:\n",
    "    centerValue = clustering.centerSetEvaluation(centers, alpha)\n",
    "    setClusterVariance = clustering.setClusterVariance(centers, alpha)\n",
    "    prVariance = clustering.prVariance(alpha)\n",
    "    clusterVariance = clustering.clusterVariance(alpha)\n",
    "    \n",
    "    x = centerValue - prVariance\n",
    "    y = setClusterVariance - clusterVariance\n",
    "    \n",
    "    val = abs(x) + abs(y)\n",
    "    if val < bestVal:\n",
    "        bestCenters = centers\n",
    "        bestVal = val\n",
    "    "
   ]
  },
  {
   "cell_type": "code",
   "execution_count": 17,
   "metadata": {
    "collapsed": false
   },
   "outputs": [
    {
     "name": "stdout",
     "output_type": "stream",
     "text": [
      "[28  2 34 31  0]\n"
     ]
    }
   ],
   "source": [
    "print best"
   ]
  },
  {
   "cell_type": "code",
   "execution_count": null,
   "metadata": {
    "collapsed": true
   },
   "outputs": [],
   "source": []
  }
 ],
 "metadata": {
  "anaconda-cloud": {},
  "kernelspec": {
   "display_name": "Python [default]",
   "language": "python",
   "name": "python2"
  },
  "language_info": {
   "codemirror_mode": {
    "name": "ipython",
    "version": 2
   },
   "file_extension": ".py",
   "mimetype": "text/x-python",
   "name": "python",
   "nbconvert_exporter": "python",
   "pygments_lexer": "ipython2",
   "version": "2.7.9"
  },
  "widgets": {
   "state": {
    "770efe13b33a4afbb30362e9727ac88b": {
     "views": [
      {
       "cell_index": 3
      }
     ]
    }
   },
   "version": "1.2.0"
  }
 },
 "nbformat": 4,
 "nbformat_minor": 0
}
