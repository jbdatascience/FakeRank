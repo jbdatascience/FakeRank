{
 "cells": [
  {
   "cell_type": "markdown",
   "metadata": {},
   "source": [
    "# FakeRank\n",
    "Hrishi Dharam, Eilam Levitov  \n",
    "March 16, 2017  "
   ]
  },
  {
   "cell_type": "markdown",
   "metadata": {},
   "source": [
    "### Abstract \n"
   ]
  },
  {
   "cell_type": "code",
   "execution_count": 1,
   "metadata": {
    "collapsed": false
   },
   "outputs": [],
   "source": [
    "import numpy as np\n",
    "import util # Linear Algebra/PageRank\n",
    "from util import PersonalizedPageRank as ppr \n",
    "import misc # Random libraries and graphing\n",
    "import matplotlib.pyplot as plt\n",
    "import ipywidgets as widgets\n",
    "from __future__ import division\n",
    "%matplotlib inline  "
   ]
  },
  {
   "cell_type": "code",
   "execution_count": 2,
   "metadata": {
    "collapsed": false
   },
   "outputs": [],
   "source": [
    "# 1) Google Search\n",
    "inputText = widgets.Text()\n",
    "inputText"
   ]
  },
  {
   "cell_type": "code",
   "execution_count": 3,
   "metadata": {
    "collapsed": false
   },
   "outputs": [
    {
     "data": {
      "text/plain": [
       "'trump russia'"
      ]
     },
     "execution_count": 3,
     "metadata": {},
     "output_type": "execute_result"
    }
   ],
   "source": [
    "inputText.value.decode('unicode_escape').encode('ascii','ignore')"
   ]
  },
  {
   "cell_type": "code",
   "execution_count": 4,
   "metadata": {
    "collapsed": false
   },
   "outputs": [
    {
     "name": "stdout",
     "output_type": "stream",
     "text": [
      "Retrieving pages...\n",
      "http://www.cnn.com/2017/03/14/politics/wiretapping-congressional-investigation/\n",
      "http://www.nbcnews.com/news/us-news/clinton-ally-says-smoke-no-fire-no-russia-trump-collusion-n734176\n",
      "http://www.cbsnews.com/news/democratic-super-pac-goes-after-trumps-russia-connections/\n",
      "http://www.politico.com/story/2017/03/russia-trump-takeaways-hearings-236100\n",
      "http://www.politico.com/story/2017/03/lindsey-graham-trump-russia-236043\n",
      "https://www.washingtonpost.com/blogs/right-turn/wp/2017/03/14/look-whos-going-after-trumps-russia-scandal/\n",
      "http://www.bbc.com/news/world-us-canada-38966846\n",
      "https://www.bloomberg.com/news/articles/2017-03-16/behind-trump-s-russia-romance-there-s-a-tower-full-of-oligarchs\n",
      "http://billmoyers.com/story/the-trump-resistance-plan-a-timeline-russia-and-president-trump/\n",
      "https://en.wikipedia.org/wiki/Donald_Trump%E2%80%93Russia_dossier\n",
      "http://www.huffingtonpost.com/entry/trump-russia-timeline_us_58c2eec2e4b054a0ea6a744e\n",
      "http://www.theblaze.com/news/2017/03/14/breaking-fbi-director-comey-may-go-public-on-trump-russia-probe/\n",
      "https://www.nytimes.com/2017/02/14/us/politics/russia-intelligence-communications-trump.html\n",
      "http://thehill.com/homenews/senate/324151-grassley-says-law-enforcement-officials-withholding-information-on-trump\n",
      "https://swalwell.house.gov/issues/russia-influence-trump-his-team\n",
      "https://www.thestar.com/news/world/2017/03/15/on-the-russian-front-trump-is-isolated-even-in-his-own-government.html\n",
      "http://time.com/4702146/roger-stone-russia-contact-warrant/\n",
      "https://www.rawstory.com/2017/03/senate-intel-leaders-feinstein-and-grassley-grim-and-silent-after-trump-russia-briefings-with-comey/\n",
      "https://www.aol.com/article/news/2017/03/15/fbi-director-james-comey-publicly-testify-trump-russia-investigation/21895564/\n",
      "http://circa.com/politics/accountability/hillary-clinton-donor-pushed-trump-russia-computer-narrative-investigated-by-fbi\n",
      "http://www.newyorker.com/magazine/2017/03/06/trump-putin-and-the-new-cold-war\n",
      "http://nymag.com/daily/intelligencer/2017/03/senator-comey-to-disclose-any-trump-russia-probe-tomorrow.html\n",
      "http://www.breitbart.com/big-journalism/2017/03/15/rachel-maddow-trump-tax-return-russia/\n",
      "https://www.usnews.com/opinion/thomas-jefferson-street/articles/2017-03-14/democrats-must-connect-donald-trump-white-nationalism-and-russia\n",
      "http://www.independent.co.uk/news/world/americas/msnbc-rachel-maddow-donald-trump-tax-return-russia-links-tv-reporter-us-viewers-sergey-kislyak-a7630831.html\n",
      "http://www.mypalmbeachpost.com/news/national-govt--politics/yachts-trump-financial-backer-russian-oligarch-seen-close-together/gI074W3JLqvEYrQ0hm9zlN/\n",
      "http://www.nationalreview.com/article/445736/donald-trump-russia-obamacare-repeal\n",
      "https://consortiumnews.com/2017/03/14/trumps-quiet-outreach-to-russia/\n",
      "http://www.motherjones.com/politics/2017/02/donald-trump-cant-come-clean-on-russia-michael-flynn\n",
      "http://www.dailymail.co.uk/news/article-4314640/James-Comey-announce-FBI-investigating-Trump.html\n",
      "https://www.axios.com/senate-dem-fbi-director-comey-is-promising-answers-on-trump-russia-2314791670.html\n",
      "https://newrepublic.com/article/141272/trump-russia-story-not-diversion\n",
      "http://twitchy.com/gregp-3534/2017/03/16/mike-morell-in-aug-16-putin-recruited-mr-trump-as-an-unwitting-agent-now-never-mind/\n",
      "http://www.foxnews.com/politics/2017/03/15/trump-adviser-secret-warrant-may-have-caught-hacker-contact.html\n",
      "http://www.reuters.com/article/us-usa-trump-russia-nunes-idUSKBN16M2CN\n",
      "http://www.usatoday.com/story/news/world/2017/02/15/donald-trumps-ties-russia-go-back-30-years/97949746/\n",
      "http://www.dailykos.com/story/2017/3/14/1643154/--Never-Trump-Republicans-support-Russia-investigation-don-t-get-too-excited\n",
      "http://www.nydailynews.com/news/politics/comey-reveal-fbi-probing-trump-russia-ties-article-1.2998228\n",
      "http://www.politicususa.com/2017/03/14/trump-republicans-pressure-congressional-gop-investigate-trump-russia.html\n",
      "https://townhall.com/tipsheet/katiepavlich/2017/03/15/its-official-fbi-director-james-comey-to-testify-about-russia-trump-wiretapping-claims-under-oath-next-week-n2299326\n",
      "http://www.thegazette.com/subject/news/government/grassley-accuses-law-enforcement-officials-of-withholding-information-in-trump-russia-probe-20170315\n",
      "http://www.thegatewaypundit.com/2017/03/revealed-hillary-fanatic-pushed-bogus-trump-russia-narrative-investigated-fbi/\n",
      "http://americannewsx.com/hot-off-the-press/rachel-maddow-trumps-money-laundry/\n",
      "http://freebeacon.com/politics/the-mainstream-media-word-brain-comes-trump-russia/\n",
      "http://www.slate.com/articles/news_and_politics/cover_story/2016/10/was_a_server_registered_to_the_trump_organization_communicating_with_russia.html\n",
      "http://www.npr.org/2017/03/15/520301595/lawmakers-accuse-fbi-of-withholding-information-in-trump-russia-probe\n",
      "http://www.mediaite.com/online/democratic-sen-says-comey-may-confirm-tomorrow-whether-fbis-investigating-trump-russia-ties/\n",
      "http://www.theaustralian.com.au/news/world/the-times/insiders-trump-or-russia-cia-leaks-sow-suspicion/news-story/c793c6226ebc544f601ccf14ba0e5165\n",
      "http://www.tampabay.com/blogs/the-buzz-florida-politics/check-out-rick-wilsons-trumprussia-ad/2316651\n",
      "Pages retrieved\n",
      "15.4608170986\n"
     ]
    }
   ],
   "source": [
    "links = misc.gSearch(str(inputText.value.decode('unicode_escape').encode('ascii','ignore')))"
   ]
  },
  {
   "cell_type": "code",
   "execution_count": 5,
   "metadata": {
    "collapsed": false
   },
   "outputs": [
    {
     "name": "stdout",
     "output_type": "stream",
     "text": [
      "49\n"
     ]
    }
   ],
   "source": [
    "print len(links)"
   ]
  },
  {
   "cell_type": "code",
   "execution_count": 6,
   "metadata": {
    "collapsed": false
   },
   "outputs": [
    {
     "name": "stdout",
     "output_type": "stream",
     "text": [
      "Generating similarity vectors...\n",
      "Similarity Matrix computed\n",
      "52.6877758503\n"
     ]
    }
   ],
   "source": [
    "# 2) Create Similarity Matrix (might take a minute)\n",
    "mtx = misc.simMatrix(links)"
   ]
  },
  {
   "cell_type": "code",
   "execution_count": 7,
   "metadata": {
    "collapsed": false
   },
   "outputs": [
    {
     "name": "stdout",
     "output_type": "stream",
     "text": [
      "[[ 0.          0.07692308  0.         ...,  0.          0.          0.        ]\n",
      " [ 0.02439024  0.          0.         ...,  0.02439024  0.02439024\n",
      "   0.02439024]\n",
      " [ 0.          0.          0.         ...,  0.2         0.          0.        ]\n",
      " ..., \n",
      " [ 0.          0.02857143  0.02857143 ...,  0.          0.02857143  0.        ]\n",
      " [ 0.          0.02631579  0.         ...,  0.02631579  0.          0.02631579]\n",
      " [ 0.          0.03030303  0.         ...,  0.          0.03030303  0.        ]]\n"
     ]
    },
    {
     "data": {
      "image/png": "[encoded data removed]",
      "text/plain": [
       "<matplotlib.figure.Figure at 0x10f250a90>"
      ]
     },
     "metadata": {},
     "output_type": "display_data"
    },
    {
     "name": "stdout",
     "output_type": "stream",
     "text": [
      "choose alpha=.05\n",
      "4.08340904312\n"
     ]
    }
   ],
   "source": [
    "# 3) Graphing PageRank and Cluster Variance\n",
    "clustering = ppr(adjacencyMatrix = mtx, alpha = .1)\n",
    "print clustering.transitionMatrix\n",
    "v = [clustering.prVariance(alpha) for alpha in np.arange(0,.5,.01)]\n",
    "plt.plot(np.arange(0, .5, .01), v)\n",
    "plt.plot(np.arange(0, .5, .01), [clustering.clusterVariance(alpha) for alpha in np.arange(0, .5, .01)])\n",
    "plt.show()\n",
    "print 'choose alpha=.05'\n",
    "print clustering.prVariance(.03)"
   ]
  },
  {
   "cell_type": "code",
   "execution_count": 8,
   "metadata": {
    "collapsed": false
   },
   "outputs": [
    {
     "name": "stdout",
     "output_type": "stream",
     "text": [
      "[ 0.00854653  0.02573343  0.00370457  0.02566222  0.02504082  0.00429293\n",
      "  0.02316384  0.02012315  0.02443033  0.02259899  0.02791358  0.02377571\n",
      "  0.02195621  0.01220317  0.0269684   0.00186737  0.02577241  0.02594003\n",
      "  0.01891252  0.02632102  0.0232718   0.02316515  0.02563846  0.0213403\n",
      "  0.02698977  0.02632102  0.01465646  0.02566222  0.01537212  0.02762726\n",
      "  0.02505586  0.02443033  0.01950824  0.02012892  0.02317443  0.02387617\n",
      "  0.02567417  0.02316624  0.02635504  0.01770595  0.00611962  0.02567894\n",
      "  0.02627588  0.02132895  0.02205357  0.02377571  0.02072017]\n"
     ]
    }
   ],
   "source": [
    "# 4) Finding stationary disribution in terms of Personalized PageRank Vectors\n",
    "stationaryDist = 1/clustering.n * sum(clustering.getHubVectors())\n",
    "print stationaryDist"
   ]
  },
  {
   "cell_type": "code",
   "execution_count": 9,
   "metadata": {
    "collapsed": false
   },
   "outputs": [],
   "source": [
    "# 5) Finding central articles \n",
    "\n",
    "#Fix k, the number of centers you want to find\n",
    "k=5\n",
    "#fix c, the number of samples\n",
    "c = 10\n",
    "#Fix alpha of your choice\n",
    "alpha = .1\n",
    "n = len(stationaryDist)\n",
    "samples = np.random.choice(n, p=stationaryDist, size=(c, k))\n",
    "\n",
    "bestCenters = samples[0]\n",
    "bestVal = float(\"inf\")\n",
    "for centers in samples:\n",
    "    centerValue = clustering.centerSetEvaluation(centers, alpha)\n",
    "    setClusterVariance = clustering.setClusterVariance(centers, alpha)\n",
    "    prVariance = clustering.prVariance(alpha)\n",
    "    clusterVariance = clustering.clusterVariance(alpha)\n",
    "    \n",
    "    x = centerValue - prVariance\n",
    "    y = setClusterVariance - clusterVariance\n",
    "    \n",
    "    val = abs(x) + abs(y)\n",
    "    if val < bestVal:\n",
    "        bestCenters = centers\n",
    "        bestVal = val\n",
    "    "
   ]
  },
  {
   "cell_type": "code",
   "execution_count": 10,
   "metadata": {
    "collapsed": false
   },
   "outputs": [
    {
     "name": "stdout",
     "output_type": "stream",
     "text": [
      "These are the representative articles: \n",
      "https://www.usnews.com/opinion/thomas-jefferson-street/articles/2017-03-14/democrats-must-connect-donald-trump-white-nationalism-and-russia\n",
      "http://www.slate.com/articles/news_and_politics/cover_story/2016/10/was_a_server_registered_to_the_trump_organization_communicating_with_russia.html\n",
      "http://www.politicususa.com/2017/03/14/trump-republicans-pressure-congressional-gop-investigate-trump-russia.html\n",
      "http://freebeacon.com/politics/the-mainstream-media-word-brain-comes-trump-russia/\n",
      "http://billmoyers.com/story/the-trump-resistance-plan-a-timeline-russia-and-president-trump/\n"
     ]
    }
   ],
   "source": [
    "print \"These are the representative articles: \"\n",
    "for i in bestCenters:\n",
    "    print links[i]"
   ]
  },
  {
   "cell_type": "code",
   "execution_count": null,
   "metadata": {
    "collapsed": true
   },
   "outputs": [],
   "source": []
  }
 ],
 "metadata": {
  "anaconda-cloud": {},
  "kernelspec": {
   "display_name": "Python 2",
   "language": "python",
   "name": "python2"
  },
  "language_info": {
   "codemirror_mode": {
    "name": "ipython",
    "version": 2
   },
   "file_extension": ".py",
   "mimetype": "text/x-python",
   "name": "python",
   "nbconvert_exporter": "python",
   "pygments_lexer": "ipython2",
   "version": "2.7.13"
  },
  "widgets": {
   "state": {
    "c51583e405134f8d9b985380b1065184": {
     "views": [
      {
       "cell_index": 3
      }
     ]
    }
   },
   "version": "1.2.0"
  }
 },
 "nbformat": 4,
 "nbformat_minor": 0
}
