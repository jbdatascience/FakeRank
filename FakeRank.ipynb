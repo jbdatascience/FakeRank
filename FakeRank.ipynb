{
 "cells": [
  {
   "cell_type": "markdown",
   "metadata": {},
   "source": [
    "# FakeRank\n",
    "Hrishi Dharam, Eilam Levitov  \n",
    "March 16, 2017  "
   ]
  },
  {
   "cell_type": "markdown",
   "metadata": {},
   "source": [
    "### Abstract \n"
   ]
  },
  {
   "cell_type": "code",
   "execution_count": 1,
   "metadata": {
    "collapsed": false
   },
   "outputs": [
    {
     "name": "stderr",
     "output_type": "stream",
     "text": [
      "/Users/Hrishid/anaconda2/lib/python2.7/site-packages/matplotlib/font_manager.py:273: UserWarning: Matplotlib is building the font cache using fc-list. This may take a moment.\n",
      "  warnings.warn('Matplotlib is building the font cache using fc-list. This may take a moment.')\n"
     ]
    }
   ],
   "source": [
    "import numpy as np\n",
    "import util # Linear Algebra/PageRank\n",
    "from util import PersonalizedPageRank as ppr \n",
    "import misc # Random libraries and graphing\n",
    "import matplotlib.pyplot as plt\n",
    "import ipywidgets as widgets\n",
    "from __future__ import division\n",
    "%matplotlib inline  "
   ]
  },
  {
   "cell_type": "code",
   "execution_count": 2,
   "metadata": {
    "collapsed": false
   },
   "outputs": [],
   "source": [
    "# 1) Google Search\n",
    "inputText = widgets.Text()\n",
    "inputText"
   ]
  },
  {
   "cell_type": "code",
   "execution_count": 19,
   "metadata": {
    "collapsed": false
   },
   "outputs": [
    {
     "data": {
      "text/plain": [
       "'shoe store'"
      ]
     },
     "execution_count": 19,
     "metadata": {},
     "output_type": "execute_result"
    }
   ],
   "source": [
    "inputText.value.decode('unicode_escape').encode('ascii','ignore')"
   ]
  },
  {
   "cell_type": "code",
   "execution_count": 20,
   "metadata": {
    "collapsed": false
   },
   "outputs": [
    {
     "name": "stdout",
     "output_type": "stream",
     "text": [
      "Retrieving pages...\n",
      "https://www.yelp.com/search?cflt=shoes&find_loc=Berkeley%2C+CA\n",
      "http://www.dsw.com/\n",
      "http://www.ninersnation.com/2017/3/14/14923024/kirk-cousins-trade-demand-shoe-store-employee\n",
      "http://www.rackroomshoes.com/storelocator.html\n",
      "http://www.walkshop.com/\n",
      "http://shoesonsolano.com/\n",
      "http://www.aldoshoes.com/us/en_US/store-finder\n",
      "http://www.footwearetc.com/locations/\n",
      "http://www.famousfootwear.com/\n",
      "http://www.redwingshoes.com/red-wing-shoe-stores\n",
      "http://elmwoodvillageshoes.com/\n",
      "http://www.shoecarnival.com/coupons\n",
      "https://stores.shoecarnival.com/\n",
      "https://www.skechers.com/en-us/store-locator\n",
      "https://www.clarksusa.com/us/store-locator\n",
      "http://www.footsmart.com/womens-shoe-store\n",
      "http://www.payless.com/\n",
      "http://www.offbroadwayshoes.com/storelocator.html\n",
      "http://www.roadrunnersports.com/rrs/storeLocator/store/berkeley\n",
      "https://www.journeys.com/\n",
      "https://www.shoeshow.com/find-a-store\n",
      "http://www.zappos.com/\n",
      "https://rabatshoes.com/\n",
      "http://www.vionicshoes.com/store-locator\n",
      "http://www.lordandtaylor.com/webapp/wcs/stores/servlet/en/lord-and-taylor/search/shoes\n",
      "http://www.jcpenney.com/g/shoes/N-bwo42?pageType=X2H2\n",
      "http://www.shoedazzle.com/\n",
      "https://www.rossstores.com/departments/shoes/mens-shoes\n",
      "https://www.rossstores.com/departments/shoes/womens-shoes\n",
      "https://en.wikipedia.org/wiki/Shoe_store\n",
      "https://www.macys.com/shop/shoes?id=13247\n",
      "http://shoestores.com/\n",
      "https://www.merrell.com/US/en/stores\n",
      "http://stores.redwing.com/saint-cloud-mn\n",
      "https://www.saagershoeshop.com/\n",
      "http://www.stage.com/b/shoes/N-q1yyfz/\n",
      "http://www.tradehome.com/\n",
      "http://www.brooksrunning.com/en_us/store-locator\n",
      "https://www.trafficshoe.com/\n",
      "https://www.reyers.com/\n",
      "http://www.premiumoutlets.com/outlet/round-rock/stores/sas-factory-shoe-store\n",
      "http://store.nba.com/Footwear\n",
      "http://www.carters.com/carters-shoes\n",
      "http://www.hagginoaks.com/shoe-store/\n",
      "http://www.wilsonshoestore.com/\n",
      "http://www.stevemadden.com/custserv/locate_store.cmd\n",
      "https://www.kohls.com/sale-event/shoes.jsp\n",
      "http://thebarnshoes.com/womens-shoes/\n",
      "http://nokomisshoes.com/\n",
      "http://curtisshoe.com/\n",
      "Pages retrieved\n",
      "92.2729110718\n"
     ]
    }
   ],
   "source": [
    "links = misc.gSearch(str(inputText.value.decode('unicode_escape').encode('ascii','ignore')))"
   ]
  },
  {
   "cell_type": "code",
   "execution_count": 21,
   "metadata": {
    "collapsed": false
   },
   "outputs": [
    {
     "name": "stdout",
     "output_type": "stream",
     "text": [
      "50\n"
     ]
    }
   ],
   "source": [
    "print len(links)"
   ]
  },
  {
   "cell_type": "code",
   "execution_count": 22,
   "metadata": {
    "collapsed": false
   },
   "outputs": [
    {
     "name": "stdout",
     "output_type": "stream",
     "text": [
      "Generating similarity vectors...\n",
      "22th parse was unsuccessful :(\n",
      "28\n",
      "35\n",
      "Similarity Matrix computed\n",
      "62.0310249329\n"
     ]
    }
   ],
   "source": [
    "# 2) Create Similarity Matrix\n",
    "mtx = misc.simMatrix(links)"
   ]
  },
  {
   "cell_type": "code",
   "execution_count": 23,
   "metadata": {
    "collapsed": false
   },
   "outputs": [
    {
     "name": "stdout",
     "output_type": "stream",
     "text": [
      "[ 0.  0.  0.  0.  0.  0.  0.  0.  0.  0.  0.  0.  0.  0.  0.  0.  0.  0.\n",
      "  0.  0.  0.  0.  0.  0.  0.  0.  0.  0.  0.  0.  0.  0.  0.  0.  0.  0.\n",
      "  0.  0.  0.  0.  0.  0.  0.  0.  0.  0.  0.]\n",
      "isn't working\n"
     ]
    }
   ],
   "source": [
    "#print mtx[10:20]\n",
    "for i in mtx:\n",
    "    if sum(i) == 0:\n",
    "        print i\n",
    "        print \"isn't working\""
   ]
  },
  {
   "cell_type": "code",
   "execution_count": 24,
   "metadata": {
    "collapsed": false
   },
   "outputs": [
    {
     "name": "stdout",
     "output_type": "stream",
     "text": [
      "[34]\n"
     ]
    }
   ],
   "source": [
    "badIndeces = [i for i in range(mtx.shape[0]) if sum(mtx[i]) == 0]\n",
    "print badIndeces"
   ]
  },
  {
   "cell_type": "code",
   "execution_count": 25,
   "metadata": {
    "collapsed": false
   },
   "outputs": [
    {
     "name": "stdout",
     "output_type": "stream",
     "text": [
      "[]\n"
     ]
    }
   ],
   "source": [
    "for i in sorted(badIndeces, reverse=True):\n",
    "    mtx = np.delete(mtx, i, axis = 1)\n",
    "    mtx = np.delete(mtx, i, axis = 0)\n",
    "badIndeces = [i for i in range(mtx.shape[0]) if sum(mtx[i]) == 0]\n",
    "print badIndeces\n",
    "    "
   ]
  },
  {
   "cell_type": "code",
   "execution_count": 30,
   "metadata": {
    "collapsed": false
   },
   "outputs": [
    {
     "name": "stdout",
     "output_type": "stream",
     "text": [
      "[[ 0.          0.          0.         ...,  0.07692308  0.          0.07692308]\n",
      " [ 0.          0.          1.         ...,  0.          0.          0.        ]\n",
      " [ 0.          0.33333333  0.         ...,  0.33333333  0.          0.        ]\n",
      " ..., \n",
      " [ 0.04        0.          0.04       ...,  0.          0.04        0.04      ]\n",
      " [ 0.          0.          0.         ...,  0.04545455  0.          0.04545455]\n",
      " [ 0.04166667  0.          0.         ...,  0.04166667  0.04166667  0.        ]]\n"
     ]
    },
    {
     "data": {
      "image/png": "[encoded data removed]",
      "text/plain": [
       "<matplotlib.figure.Figure at 0x10f7877d0>"
      ]
     },
     "metadata": {},
     "output_type": "display_data"
    },
    {
     "name": "stdout",
     "output_type": "stream",
     "text": [
      "choose alpha=.05\n",
      "32.2600859584\n"
     ]
    }
   ],
   "source": [
    "clustering = ppr(adjacencyMatrix = mtx, alpha = .1)\n",
    "print clustering.transitionMatrix\n",
    "v = [clustering.prVariance(alpha) for alpha in np.arange(0,.3,.01)]\n",
    "plt.plot(np.arange(0, .3, .01), v)\n",
    "plt.plot(np.arange(0, .3, .01), [clustering.clusterVariance(alpha) for alpha in np.arange(0, .3, .01)])\n",
    "plt.show()\n",
    "print 'choose alpha=.05'\n",
    "print clustering.prVariance(.03)"
   ]
  },
  {
   "cell_type": "code",
   "execution_count": 52,
   "metadata": {
    "collapsed": false
   },
   "outputs": [
    {
     "ename": "AttributeError",
     "evalue": "PersonalizedPageRank instance has no attribute 'pageRank'",
     "output_type": "error",
     "traceback": [
      "\u001b[0;31m---------------------------------------------------------------------------\u001b[0m",
      "\u001b[0;31mAttributeError\u001b[0m                            Traceback (most recent call last)",
      "\u001b[0;32m<ipython-input-52-c76b122085f5>\u001b[0m in \u001b[0;36m<module>\u001b[0;34m()\u001b[0m\n\u001b[1;32m      2\u001b[0m \u001b[0;34m\u001b[0m\u001b[0m\n\u001b[1;32m      3\u001b[0m \u001b[0mvals\u001b[0m\u001b[0;34m,\u001b[0m \u001b[0mvecs\u001b[0m \u001b[0;34m=\u001b[0m \u001b[0mnp\u001b[0m\u001b[0;34m.\u001b[0m\u001b[0mlinalg\u001b[0m\u001b[0;34m.\u001b[0m\u001b[0meig\u001b[0m\u001b[0;34m(\u001b[0m\u001b[0mclustering\u001b[0m\u001b[0;34m.\u001b[0m\u001b[0mtransitionMatrix\u001b[0m\u001b[0;34m.\u001b[0m\u001b[0mT\u001b[0m\u001b[0;34m)\u001b[0m\u001b[0;34m\u001b[0m\u001b[0m\n\u001b[0;32m----> 4\u001b[0;31m \u001b[0;32mprint\u001b[0m \u001b[0mclustering\u001b[0m\u001b[0;34m.\u001b[0m\u001b[0mpageRank\u001b[0m\u001b[0;34m\u001b[0m\u001b[0m\n\u001b[0m\u001b[1;32m      5\u001b[0m \u001b[0;32mprint\u001b[0m \u001b[0mvals\u001b[0m\u001b[0;34m[\u001b[0m\u001b[0;36m0\u001b[0m\u001b[0;34m]\u001b[0m\u001b[0;34m\u001b[0m\u001b[0m\n\u001b[1;32m      6\u001b[0m \u001b[0mv\u001b[0m \u001b[0;34m=\u001b[0m \u001b[0mvecs\u001b[0m\u001b[0;34m[\u001b[0m\u001b[0;34m:\u001b[0m\u001b[0;34m,\u001b[0m\u001b[0;36m0\u001b[0m\u001b[0;34m]\u001b[0m\u001b[0;34m\u001b[0m\u001b[0m\n",
      "\u001b[0;31mAttributeError\u001b[0m: PersonalizedPageRank instance has no attribute 'pageRank'"
     ]
    }
   ],
   "source": [
    "stationaryDist = 1/clustering.n * sum(clustering.getHubVectors())\n",
    "\n",
    "vals, vecs = np.linalg.eig(clustering.transitionMatrix.T)\n",
    "print clustering.pageRank\n",
    "print vals[0]\n",
    "v = vecs[:,0]\n",
    "v*= 1/sum(v)\n",
    "print v\n",
    "print clustering.transitionMatrix.T.dot(v)"
   ]
  },
  {
   "cell_type": "code",
   "execution_count": 32,
   "metadata": {
    "collapsed": false
   },
   "outputs": [
    {
     "name": "stdout",
     "output_type": "stream",
     "text": [
      "[[ 0.          0.          0.         ...,  0.07692308  0.          0.07692308]\n",
      " [ 0.          0.          1.         ...,  0.          0.          0.        ]\n",
      " [ 0.          0.33333333  0.         ...,  0.33333333  0.          0.        ]\n",
      " ..., \n",
      " [ 0.04        0.          0.04       ...,  0.          0.04        0.04      ]\n",
      " [ 0.          0.          0.         ...,  0.04545455  0.          0.04545455]\n",
      " [ 0.04166667  0.          0.         ...,  0.04166667  0.04166667  0.        ]]\n"
     ]
    }
   ],
   "source": [
    "print clustering.transitionMatrix"
   ]
  },
  {
   "cell_type": "code",
   "execution_count": null,
   "metadata": {
    "collapsed": true
   },
   "outputs": [],
   "source": []
  }
 ],
 "metadata": {
  "anaconda-cloud": {},
  "kernelspec": {
   "display_name": "Python [default]",
   "language": "python",
   "name": "python2"
  },
  "language_info": {
   "codemirror_mode": {
    "name": "ipython",
    "version": 2
   },
   "file_extension": ".py",
   "mimetype": "text/x-python",
   "name": "python",
   "nbconvert_exporter": "python",
   "pygments_lexer": "ipython2",
   "version": "2.7.9"
  },
  "widgets": {
   "state": {
    "5ae097912fd04a5d878d8ecbceb7bdcf": {
     "views": [
      {
       "cell_index": 3
      }
     ]
    }
   },
   "version": "1.2.0"
  }
 },
 "nbformat": 4,
 "nbformat_minor": 0
}
