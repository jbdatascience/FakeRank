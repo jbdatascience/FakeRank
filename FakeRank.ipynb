{
 "cells": [
  {
   "cell_type": "markdown",
   "metadata": {},
   "source": [
    "# FakeRank\n",
    "Hrishi Dharam, Eilam Levitov  \n",
    "March 16, 2017  "
   ]
  },
  {
   "cell_type": "markdown",
   "metadata": {},
   "source": [
    "### Abstract \n"
   ]
  },
  {
   "cell_type": "code",
   "execution_count": 1,
   "metadata": {
    "collapsed": false
   },
   "outputs": [
    {
     "name": "stderr",
     "output_type": "stream",
     "text": [
      "/Users/Hrishid/anaconda2/lib/python2.7/site-packages/matplotlib/font_manager.py:273: UserWarning: Matplotlib is building the font cache using fc-list. This may take a moment.\n",
      "  warnings.warn('Matplotlib is building the font cache using fc-list. This may take a moment.')\n"
     ]
    }
   ],
   "source": [
    "import numpy as np\n",
    "import util # Linear Algebra/PageRank\n",
    "import misc # Random libraries and graphing\n",
    "import matplotlib.pyplot as plt\n",
    "import ipywidgets as widgets\n",
    "%matplotlib inline  "
   ]
  },
  {
   "cell_type": "code",
   "execution_count": 3,
   "metadata": {
    "collapsed": false
   },
   "outputs": [],
   "source": [
    "# 1) Google Search\n",
    "inputText = widgets.Text()\n",
    "inputText"
   ]
  },
  {
   "cell_type": "code",
   "execution_count": 5,
   "metadata": {
    "collapsed": false
   },
   "outputs": [
    {
     "data": {
      "text/plain": [
       "'tea carpet'"
      ]
     },
     "execution_count": 5,
     "metadata": {},
     "output_type": "execute_result"
    }
   ],
   "source": [
    "inputText.value.decode('unicode_escape').encode('ascii','ignore')"
   ]
  },
  {
   "cell_type": "code",
   "execution_count": null,
   "metadata": {
    "collapsed": false
   },
   "outputs": [
    {
     "name": "stdout",
     "output_type": "stream",
     "text": [
      "Retrieving pages...\n"
     ]
    }
   ],
   "source": [
    "links = misc.gSearch(str(inputText.value.decode('unicode_escape').encode('ascii','ignore')))"
   ]
  },
  {
   "cell_type": "code",
   "execution_count": null,
   "metadata": {
    "collapsed": false
   },
   "outputs": [],
   "source": [
    "print len(links)"
   ]
  },
  {
   "cell_type": "code",
   "execution_count": 6,
   "metadata": {
    "collapsed": false
   },
   "outputs": [
    {
     "name": "stdout",
     "output_type": "stream",
     "text": [
      "Generating similarity vectors...\n",
      "Similarity Matrix computed\n",
      "122.060010195\n"
     ]
    }
   ],
   "source": [
    "# 2) Create Similarity Matrix\n",
    "mtx = misc.simMatrix(links)"
   ]
  },
  {
   "cell_type": "code",
   "execution_count": 7,
   "metadata": {
    "collapsed": false
   },
   "outputs": [
    {
     "name": "stdout",
     "output_type": "stream",
     "text": [
      "[[ 0.  0.  1.  1.  0.  0.  1.  1.  1.  1.  0.  0.  0.  1.  0.  1.  1.  1.\n",
      "   0.  0.  1.  1.  1.  1.  1.  1.  0.  1.  1.  1.  1.  1.  1.  1.  0.  1.\n",
      "   1.  1.  1.  1.  0.  1.  1.  0.  1.  1.  0.  0.  1.  0.  0.  0.  1.  1.\n",
      "   1.  1.  0.  1.  0.  0.  0.  1.  1.  1.  1.  1.  1.  1.  1.  1.  1.  1.\n",
      "   1.  1.  1.  1.  0.  1.  1.  1.  1.  1.  1.  0.  1.  1.  0.  1.  1.  1.\n",
      "   1.  1.  1.  1.  1.  1.  1.  1.  1.  1.]\n",
      " [ 0.  0.  0.  0.  0.  0.  0.  0.  0.  0.  0.  0.  1.  0.  0.  0.  0.  0.\n",
      "   0.  0.  0.  0.  0.  0.  0.  0.  0.  0.  0.  0.  0.  0.  0.  0.  0.  0.\n",
      "   0.  0.  0.  0.  0.  0.  0.  0.  0.  0.  0.  0.  0.  0.  0.  0.  0.  0.\n",
      "   0.  0.  0.  0.  0.  0.  0.  0.  0.  0.  0.  0.  0.  0.  0.  0.  0.  0.\n",
      "   0.  0.  0.  0.  0.  0.  0.  0.  0.  0.  0.  0.  0.  0.  0.  0.  0.  0.\n",
      "   0.  0.  0.  0.  0.  0.  0.  0.  0.  0.]\n",
      " [ 0.  0.  0.  0.  0.  0.  0.  0.  0.  0.  0.  1.  0.  0.  0.  0.  0.  0.\n",
      "   0.  0.  0.  0.  0.  0.  0.  0.  0.  0.  0.  0.  0.  0.  0.  0.  0.  0.\n",
      "   0.  0.  0.  0.  0.  0.  0.  0.  0.  0.  0.  0.  0.  0.  0.  0.  0.  0.\n",
      "   0.  0.  0.  0.  0.  0.  0.  0.  0.  0.  0.  0.  0.  0.  0.  0.  0.  0.\n",
      "   0.  0.  0.  0.  0.  0.  0.  0.  0.  0.  0.  0.  0.  0.  0.  0.  0.  0.\n",
      "   0.  0.  0.  0.  0.  0.  0.  0.  0.  0.]\n",
      " [ 0.  0.  1.  1.  0.  0.  0.  1.  1.  0.  1.  0.  0.  0.  0.  1.  1.  0.\n",
      "   0.  0.  0.  0.  1.  1.  1.  1.  0.  1.  0.  0.  0.  0.  0.  1.  0.  1.\n",
      "   1.  0.  0.  0.  0.  1.  1.  0.  0.  1.  0.  0.  0.  0.  0.  0.  0.  0.\n",
      "   1.  0.  0.  0.  0.  0.  0.  0.  1.  1.  1.  0.  1.  0.  1.  0.  1.  1.\n",
      "   1.  0.  0.  0.  1.  0.  0.  0.  1.  0.  1.  0.  0.  1.  0.  0.  0.  1.\n",
      "   1.  1.  1.  1.  0.  0.  0.  0.  1.  1.]\n",
      " [ 0.  1.  1.  1.  1.  0.  1.  1.  0.  1.  0.  0.  0.  0.  0.  1.  0.  1.\n",
      "   1.  0.  1.  1.  1.  1.  1.  0.  1.  1.  1.  0.  0.  1.  0.  1.  0.  0.\n",
      "   1.  1.  1.  0.  0.  0.  0.  0.  0.  0.  0.  0.  1.  0.  0.  0.  1.  1.\n",
      "   0.  1.  0.  1.  1.  0.  0.  1.  1.  1.  0.  0.  1.  1.  0.  0.  1.  1.\n",
      "   1.  0.  1.  0.  0.  0.  0.  1.  1.  1.  0.  1.  1.  1.  0.  1.  1.  0.\n",
      "   1.  0.  1.  0.  1.  0.  0.  1.  0.  0.]\n",
      " [ 0.  0.  1.  1.  0.  0.  0.  1.  1.  0.  1.  0.  0.  1.  1.  0.  1.  1.\n",
      "   1.  0.  1.  1.  1.  1.  1.  0.  0.  1.  0.  0.  0.  0.  0.  1.  0.  0.\n",
      "   1.  0.  1.  0.  0.  1.  1.  0.  0.  1.  0.  0.  1.  0.  0.  0.  1.  1.\n",
      "   1.  0.  0.  1.  0.  0.  0.  0.  1.  1.  0.  0.  1.  1.  0.  0.  1.  1.\n",
      "   1.  0.  1.  0.  1.  0.  1.  1.  1.  1.  1.  1.  0.  1.  0.  1.  1.  1.\n",
      "   1.  0.  1.  1.  0.  0.  0.  1.  1.  1.]\n",
      " [ 1.  0.  1.  1.  0.  1.  0.  1.  1.  1.  1.  0.  0.  1.  0.  1.  0.  1.\n",
      "   1.  0.  1.  1.  1.  1.  1.  1.  0.  1.  1.  1.  0.  0.  1.  1.  0.  1.\n",
      "   1.  1.  1.  1.  1.  1.  1.  0.  1.  1.  0.  1.  1.  0.  0.  0.  1.  1.\n",
      "   1.  1.  0.  1.  1.  0.  0.  1.  1.  1.  1.  1.  1.  1.  1.  1.  1.  1.\n",
      "   1.  0.  0.  1.  0.  1.  1.  1.  1.  1.  1.  0.  1.  1.  1.  1.  1.  1.\n",
      "   1.  1.  1.  1.  1.  1.  1.  1.  1.  0.]\n",
      " [ 1.  1.  1.  1.  1.  0.  1.  1.  1.  1.  1.  0.  0.  0.  1.  1.  1.  0.\n",
      "   1.  0.  1.  1.  1.  1.  1.  1.  1.  1.  0.  0.  0.  1.  1.  1.  0.  1.\n",
      "   1.  1.  1.  0.  1.  1.  0.  0.  1.  1.  0.  0.  1.  0.  0.  0.  1.  1.\n",
      "   1.  1.  0.  1.  1.  0.  0.  1.  1.  1.  0.  0.  1.  1.  1.  1.  1.  1.\n",
      "   1.  0.  1.  0.  0.  1.  1.  1.  1.  1.  1.  1.  1.  1.  0.  1.  1.  1.\n",
      "   1.  1.  1.  1.  1.  1.  1.  1.  1.  0.]\n",
      " [ 1.  1.  1.  1.  1.  0.  1.  1.  1.  1.  0.  0.  0.  0.  1.  1.  1.  1.\n",
      "   0.  0.  1.  1.  1.  1.  1.  1.  1.  1.  1.  0.  0.  1.  0.  1.  0.  1.\n",
      "   1.  1.  1.  0.  0.  1.  0.  0.  0.  0.  0.  0.  1.  0.  0.  0.  1.  1.\n",
      "   1.  1.  0.  1.  1.  0.  0.  1.  1.  1.  0.  0.  1.  1.  1.  0.  1.  1.\n",
      "   1.  0.  1.  0.  0.  0.  1.  1.  1.  1.  1.  1.  1.  1.  0.  1.  1.  1.\n",
      "   1.  0.  1.  0.  1.  0.  0.  1.  0.  0.]\n",
      " [ 0.  0.  0.  0.  0.  0.  0.  0.  0.  0.  0.  0.  0.  0.  0.  0.  0.  0.\n",
      "   0.  0.  0.  0.  0.  0.  0.  0.  0.  0.  0.  0.  0.  0.  0.  0.  0.  0.\n",
      "   0.  0.  0.  0.  0.  0.  0.  0.  0.  0.  0.  0.  0.  0.  0.  0.  0.  0.\n",
      "   0.  0.  0.  0.  0.  0.  0.  0.  0.  0.  0.  0.  0.  0.  0.  0.  0.  0.\n",
      "   0.  0.  0.  0.  0.  0.  0.  0.  0.  0.  0.  0.  0.  0.  0.  0.  0.  0.\n",
      "   0.  0.  0.  0.  0.  0.  0.  0.  0.  0.]]\n"
     ]
    }
   ],
   "source": [
    "print mtx[10:20]"
   ]
  },
  {
   "cell_type": "code",
   "execution_count": null,
   "metadata": {
    "collapsed": true
   },
   "outputs": [],
   "source": []
  }
 ],
 "metadata": {
  "anaconda-cloud": {},
  "kernelspec": {
   "display_name": "Python [default]",
   "language": "python",
   "name": "python2"
  },
  "language_info": {
   "codemirror_mode": {
    "name": "ipython",
    "version": 2
   },
   "file_extension": ".py",
   "mimetype": "text/x-python",
   "name": "python",
   "nbconvert_exporter": "python",
   "pygments_lexer": "ipython2",
   "version": "2.7.9"
  },
  "widgets": {
   "state": {
    "275ec593461643e186c4f552f8aec9da": {
     "views": [
      {
       "cell_index": 3
      }
     ]
    }
   },
   "version": "1.2.0"
  }
 },
 "nbformat": 4,
 "nbformat_minor": 0
}
