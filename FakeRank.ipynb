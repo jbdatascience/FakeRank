{
 "cells": [
  {
   "cell_type": "markdown",
   "metadata": {},
   "source": [
    "# FakeRank\n",
    "Hrishi Dharam, Eilam Levitov  \n",
    "March 16, 2017  "
   ]
  },
  {
   "cell_type": "markdown",
   "metadata": {},
   "source": [
    "### Abstract \n"
   ]
  },
  {
   "cell_type": "code",
   "execution_count": 3,
   "metadata": {
    "collapsed": false
   },
   "outputs": [
    {
     "name": "stderr",
     "output_type": "stream",
     "text": [
      "/Users/Hrishid/anaconda2/lib/python2.7/site-packages/matplotlib/font_manager.py:273: UserWarning: Matplotlib is building the font cache using fc-list. This may take a moment.\n",
      "  warnings.warn('Matplotlib is building the font cache using fc-list. This may take a moment.')\n"
     ]
    }
   ],
   "source": [
    "import numpy as np\n",
    "import util # Linear Algebra/PageRank\n",
    "from util import PersonalizedPageRank as ppr \n",
    "import misc # Random libraries and graphing\n",
    "import matplotlib.pyplot as plt\n",
    "import ipywidgets as widgets\n",
    "from __future__ import division\n",
    "%matplotlib inline  "
   ]
  },
  {
   "cell_type": "code",
   "execution_count": 4,
   "metadata": {
    "collapsed": false
   },
   "outputs": [],
   "source": [
    "# 1) Google Search\n",
    "inputText = widgets.Text()\n",
    "inputText"
   ]
  },
  {
   "cell_type": "code",
   "execution_count": 5,
   "metadata": {
    "collapsed": false
   },
   "outputs": [
    {
     "data": {
      "text/plain": [
       "'smelly fish'"
      ]
     },
     "execution_count": 5,
     "metadata": {},
     "output_type": "execute_result"
    }
   ],
   "source": [
    "inputText.value.decode('unicode_escape').encode('ascii','ignore')"
   ]
  },
  {
   "cell_type": "code",
   "execution_count": 6,
   "metadata": {
    "collapsed": false
   },
   "outputs": [
    {
     "name": "stdout",
     "output_type": "stream",
     "text": [
      "Retrieving pages...\n",
      "http://www.delish.com/food/news/a38906/top-ten-stinky-foods-durian-natto/\n",
      "https://www.chowhound.com/post/fish-eat-fishy-smell-863361\n",
      "http://www.miaminewtimes.com/restaurants/the-science-behind-the-fishy-smell-in-smelly-fish-6574273\n",
      "http://www.medicinenet.com/fish_odor_syndrome_trimethylaminuria/article.htm\n",
      "https://en.wikipedia.org/wiki/Surstr%C3%B6mming\n",
      "http://cooking.stackexchange.com/questions/13764/do-some-fish-smell-fishier-why\n",
      "http://learningenglish.voanews.com/a/words-and-their-stories-smelly-fish/3703914.html\n",
      "https://forums.egullet.org/topic/153033-slightly-smelly-cod/\n",
      "https://munchies.vice.com/en_us/topic/smelly-fish\n",
      "https://www.nutrition.org/asn-blog/2011/08/is-fish-smelly/\n",
      "http://www.app.com/story/sports/outdoors/fishing/hook-line-and-sinker/2014/10/09/ocean-facts-makes-fish-smell/16991205/\n",
      "https://www.youtube.com/watch?v=hOcSU3gPTYI\n",
      "https://www.nytimes.com/2016/10/26/opinion/not-just-another-stinky-fish.html\n",
      "http://www.firsttankguide.net/odor.php\n",
      "http://www.thekitchn.com/getting-rid-of-fish-smells-180380\n",
      "https://www.thelocal.se/20160622/swedens-smelly-fermented-fish-season-begins\n",
      "http://lifehacker.com/three-ways-to-make-fish-smell-less-fishy-with-science-1785174589\n",
      "https://www.hyperisland.com/community/news/stinky-fish\n",
      "http://www.lonelyplanet.com/sweden/travel-tips-and-articles/77282\n",
      "https://www.amazon.com/Smelly-Jelly-Fish-Michael-Rosen/dp/0138145679\n",
      "http://humantouchofchemistry.com/why-do-fish-smell-when-you-buy-them.htm\n",
      "https://pethelpful.com/dogs/How-to-Get-the-Fish-Smell-out-of-your-Dog\n",
      "https://www.tripadvisor.com/ShowUserReviews-g34467-d2071993-r454333481-Rosedale_Brick_Oven-Naples_Florida.html\n",
      "https://www.tripadvisor.com/ShowUserReviews-g4340243-d7615755-r350226582-Kedai_Kopi_Wan_Wan-Penampang_Sabah.html\n",
      "http://www.prevention.com/food/cook/how-cook-fish-so-it-doesnt-smell\n",
      "http://www.tripadvisor.ie/LocationPhotoDirectLink-g298570-d1120846-i147628336-Essence_Restaurant-Kuala_Lumpur_Wilayah_Persekutuan.html\n",
      "http://thegoldfishtank.com/goldfish-care/tank/goldfish-tank-smells-bad/\n",
      "http://www.myaquariumclub.com/my-fish-aquarium-smells-bad-i-have-a-five-gallon-aquarium-and-a-betta-fish...-1521614.html\n",
      "http://ask.metafilter.com/245080/Why-Does-My-Frozen-Fish-Smell-Fishy\n",
      "http://ttte.wikia.com/wiki/The_Smelly_Kipper\n",
      "http://www.beaglepro.com/beagle-vagina-smell\n",
      "http://www.nhs.uk/Conditions/trimethylaminuria/Pages/Introduction.aspx\n",
      "https://www.thedodo.com/why-dogs-smell-like-fish-1178117647.html\n",
      "https://www.tripadvisor.co.nz/LocationPhotoDirectLink-g298570-d787377-i108905582-Shook-Kuala_Lumpur_Wilayah_Persekutuan.html\n",
      "http://patch.com/new-york/southampton/smelly-fish-cleanup-stalled-wealthy-hamptons-lane-more-1k-tons-left-financing\n",
      "http://www.mypalmbeachpost.com/lifestyles/how-mom-brain-made-forget-left-stinky-fish-car/WwsmCG86kTx55diJLu4NFL/\n",
      "https://www.discogs.com/artist/5624355-Smelly-Fish\n",
      "http://www.tested.com/food/520048-10-foods-make-your-urine-smell-most/item/salmon/\n",
      "http://www.channel4embarrassingillnesses.com/conditions/fish-odour-syndrome/\n",
      "https://www.mumsnet.com/Talk/housekeeping/1324735-Boring-How-do-you-restrict-the-smell-of-smelly-fish\n",
      "http://roadsandkingdoms.com/breakfast/nothing-like-plate-smelly-fish-start-day/\n",
      "https://www.oercommons.org/courses/smelly-fish\n",
      "http://www.ateriet.com/what-is-surstromming-and-how-to-eat-this-smelly-fish/\n",
      "https://www.shutterstock.com/search/smelly+fish\n",
      "http://abcnews.go.com/Primetime/story?id=2287206\n",
      "http://giphy.com/gifs/fish-gif-9to5probs-smelly-TwICmfGwRl9pC\n",
      "https://food-hacks.wonderhowto.com/how-to/freshen-your-older-fish-filets-with-simple-trick-0165139/\n",
      "http://www.mommyedition.com/how-to-get-rid-of-unpleasant-vaginal-odor\n",
      "http://scarysymptoms.com/2012/01/fishy-smell-around-penis-causes-and/\n",
      "http://www.embarrassingproblems.com/problem/vaginal-vulva-problems/fishy-smell\n",
      "Pages retrieved\n",
      "241.378890038\n"
     ]
    }
   ],
   "source": [
    "links = misc.gSearch(str(inputText.value.decode('unicode_escape').encode('ascii','ignore')))"
   ]
  },
  {
   "cell_type": "code",
   "execution_count": 7,
   "metadata": {
    "collapsed": false
   },
   "outputs": [
    {
     "name": "stdout",
     "output_type": "stream",
     "text": [
      "50\n"
     ]
    }
   ],
   "source": [
    "print len(links)"
   ]
  },
  {
   "cell_type": "code",
   "execution_count": 8,
   "metadata": {
    "collapsed": false
   },
   "outputs": [
    {
     "name": "stdout",
     "output_type": "stream",
     "text": [
      "Generating similarity vectors...\n",
      "9th parse was unsuccessful :(\n",
      "17th parse was unsuccessful :(\n",
      "46th parse was unsuccessful :(\n",
      "11\n",
      "Similarity Matrix computed\n",
      "76.4280478954\n"
     ]
    }
   ],
   "source": [
    "# 2) Create Similarity Matrix\n",
    "mtx = misc.simMatrix(links)"
   ]
  },
  {
   "cell_type": "code",
   "execution_count": 9,
   "metadata": {
    "collapsed": false
   },
   "outputs": [],
   "source": [
    "#print mtx[10:20]\n",
    "for i in mtx:\n",
    "    if sum(i) == 0:\n",
    "        print i\n",
    "        print \"isn't working\""
   ]
  },
  {
   "cell_type": "code",
   "execution_count": 10,
   "metadata": {
    "collapsed": false
   },
   "outputs": [
    {
     "name": "stdout",
     "output_type": "stream",
     "text": [
      "[]\n"
     ]
    }
   ],
   "source": [
    "badIndeces = [i for i in range(mtx.shape[0]) if sum(mtx[i]) == 0]\n",
    "print badIndeces"
   ]
  },
  {
   "cell_type": "code",
   "execution_count": 11,
   "metadata": {
    "collapsed": false
   },
   "outputs": [
    {
     "name": "stdout",
     "output_type": "stream",
     "text": [
      "[]\n"
     ]
    }
   ],
   "source": [
    "for i in sorted(badIndeces, reverse=True):\n",
    "    mtx = np.delete(mtx, i, axis = 1)\n",
    "    mtx = np.delete(mtx, i, axis = 0)\n",
    "badIndeces = [i for i in range(mtx.shape[0]) if sum(mtx[i]) == 0]\n",
    "print badIndeces\n",
    "    "
   ]
  },
  {
   "cell_type": "code",
   "execution_count": 12,
   "metadata": {
    "collapsed": false
   },
   "outputs": [
    {
     "name": "stdout",
     "output_type": "stream",
     "text": [
      "[[ 0.          0.02631579  0.02631579 ...,  0.02631579  0.          0.02631579]\n",
      " [ 0.02702703  0.          0.02702703 ...,  0.02702703  0.          0.02702703]\n",
      " [ 0.02631579  0.02631579  0.         ...,  0.02631579  0.          0.02631579]\n",
      " ..., \n",
      " [ 0.03333333  0.03333333  0.03333333 ...,  0.          0.          0.03333333]\n",
      " [ 0.          0.          0.         ...,  0.          0.          0.        ]\n",
      " [ 0.03571429  0.03571429  0.03571429 ...,  0.03571429  0.          0.        ]]\n"
     ]
    },
    {
     "data": {
      "image/png": "[encoded data removed]",
      "text/plain": [
       "<matplotlib.figure.Figure at 0x10cdf5e90>"
      ]
     },
     "metadata": {},
     "output_type": "display_data"
    },
    {
     "name": "stdout",
     "output_type": "stream",
     "text": [
      "choose alpha=.05\n",
      "4.08985514407\n"
     ]
    }
   ],
   "source": [
    "clustering = ppr(adjacencyMatrix = mtx, alpha = .1)\n",
    "print clustering.transitionMatrix\n",
    "v = [clustering.prVariance(alpha) for alpha in np.arange(0,.3,.01)]\n",
    "plt.plot(np.arange(0, .3, .01), v)\n",
    "plt.plot(np.arange(0, .3, .01), [clustering.clusterVariance(alpha) for alpha in np.arange(0, .3, .01)])\n",
    "plt.show()\n",
    "print 'choose alpha=.05'\n",
    "print clustering.prVariance(.03)"
   ]
  },
  {
   "cell_type": "code",
   "execution_count": 17,
   "metadata": {
    "collapsed": false
   },
   "outputs": [
    {
     "name": "stdout",
     "output_type": "stream",
     "text": [
      "[ 0.03209459  0.03125     0.03209459  0.03125     0.01942568  0.02618243\n",
      "  0.02364865  0.02449324  0.02027027  0.00506757  0.00084459  0.02027027\n",
      "  0.02871622  0.00844595  0.00591216  0.02364865  0.00675676  0.02449324\n",
      "  0.02956081  0.02027027  0.02027027  0.02956081  0.01435811  0.01858108\n",
      "  0.01013514  0.02871622  0.03125     0.01266892  0.02449324  0.01435811\n",
      "  0.01435811  0.02618243  0.02618243  0.02027027  0.02871622  0.02280405\n",
      "  0.03293919  0.02787162  0.02364865  0.02871622  0.03040541  0.02618243\n",
      "  0.02280405  0.02533784  0.00084459  0.02364865]\n",
      "[ 0.03209459  0.03125     0.03209459  0.03125     0.01942568  0.02618243\n",
      "  0.02364865  0.02449324  0.02027027  0.00506757  0.00084459  0.02027027\n",
      "  0.02871622  0.00844595  0.00591216  0.02364865  0.00675676  0.02449324\n",
      "  0.02956081  0.02027027  0.02027027  0.02956081  0.01435811  0.01858108\n",
      "  0.01013514  0.02871622  0.03125     0.01266892  0.02449324  0.01435811\n",
      "  0.01435811  0.02618243  0.02618243  0.02027027  0.02871622  0.02280405\n",
      "  0.03293919  0.02787162  0.02364865  0.02871622  0.03040541  0.02618243\n",
      "  0.02280405  0.02533784  0.00084459  0.02364865]\n"
     ]
    }
   ],
   "source": [
    "stationaryDist = 1/clustering.n * sum(clustering.getHubVectors())\n",
    "\n",
    "v = clustering.pageRank()"
   ]
  },
  {
   "cell_type": "code",
   "execution_count": 32,
   "metadata": {
    "collapsed": false
   },
   "outputs": [
    {
     "name": "stdout",
     "output_type": "stream",
     "text": [
      "[[ 0.          0.          0.         ...,  0.07692308  0.          0.07692308]\n",
      " [ 0.          0.          1.         ...,  0.          0.          0.        ]\n",
      " [ 0.          0.33333333  0.         ...,  0.33333333  0.          0.        ]\n",
      " ..., \n",
      " [ 0.04        0.          0.04       ...,  0.          0.04        0.04      ]\n",
      " [ 0.          0.          0.         ...,  0.04545455  0.          0.04545455]\n",
      " [ 0.04166667  0.          0.         ...,  0.04166667  0.04166667  0.        ]]\n"
     ]
    }
   ],
   "source": [
    "k=5\n",
    "c = 10\n"
   ]
  },
  {
   "cell_type": "code",
   "execution_count": null,
   "metadata": {
    "collapsed": true
   },
   "outputs": [],
   "source": []
  }
 ],
 "metadata": {
  "anaconda-cloud": {},
  "kernelspec": {
   "display_name": "Python [default]",
   "language": "python",
   "name": "python2"
  },
  "language_info": {
   "codemirror_mode": {
    "name": "ipython",
    "version": 2
   },
   "file_extension": ".py",
   "mimetype": "text/x-python",
   "name": "python",
   "nbconvert_exporter": "python",
   "pygments_lexer": "ipython2",
   "version": "2.7.9"
  },
  "widgets": {
   "state": {
    "e970fe9222ac4dee8108269d53281ea5": {
     "views": [
      {
       "cell_index": 3
      }
     ]
    }
   },
   "version": "1.2.0"
  }
 },
 "nbformat": 4,
 "nbformat_minor": 0
}
