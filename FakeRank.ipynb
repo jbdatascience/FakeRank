{
 "cells": [
  {
   "cell_type": "markdown",
   "metadata": {},
   "source": [
    "# FakeRank\n",
    "Hrishi Dharam, Eilam Levitov  \n",
    "March 16, 2017  "
   ]
  },
  {
   "cell_type": "markdown",
   "metadata": {},
   "source": [
    "### Abstract \n"
   ]
  },
  {
   "cell_type": "code",
   "execution_count": 1,
   "metadata": {
    "collapsed": false
   },
   "outputs": [],
   "source": [
    "import numpy as np\n",
    "import util # Linear Algebra/PageRank\n",
    "import misc # Random libraries and graphing\n",
    "import matplotlib.pyplot as plt\n",
    "import ipywidgets as widgets\n",
    "%matplotlib inline  "
   ]
  },
  {
   "cell_type": "code",
   "execution_count": 2,
   "metadata": {
    "collapsed": false
   },
   "outputs": [],
   "source": [
    "# 1) Google Search\n",
    "inputText = widgets.Text()\n",
    "inputText"
   ]
  },
  {
   "cell_type": "code",
   "execution_count": 3,
   "metadata": {
    "collapsed": false
   },
   "outputs": [
    {
     "data": {
      "text/plain": [
       "'lol rolf'"
      ]
     },
     "execution_count": 3,
     "metadata": {},
     "output_type": "execute_result"
    }
   ],
   "source": [
    "inputText.value.decode('unicode_escape').encode('ascii','ignore')"
   ]
  },
  {
   "cell_type": "code",
   "execution_count": 4,
   "metadata": {
    "collapsed": false
   },
   "outputs": [
    {
     "name": "stdout",
     "output_type": "stream",
     "text": [
      "Retrieving pages...\n",
      "https://www.allaboutcounseling.com/forum/general-support/what-do-lol-and-rolf-stand-for/\n",
      "https://tvaraj.com/2014/04/14/what-does-lol-lmao-rofl-brb-afk-ty-thx-etc-mean/\n",
      "http://www.internetslang.com/ROLF-meaning-definition.asp\n",
      "http://www.memecenter.com/search/rolf\n",
      "http://www.memecenter.com/fun/119845/What-you-wrote-LOL-ROLF-LMFAO\n",
      "http://www.quickmeme.com/meme/35h2gd\n",
      "http://rofl.motifake.com/tags/rofl\n",
      "http://www.funnyjunk.com/funny_pictures/3215135/Rolf/\n",
      "http://www.riftherald.com/lol-gameplay/2016/11/16/13655258/replay-files-rofl-lol-client-update\n",
      "http://boards.na.leagueoflegends.com/en/c/miscellaneous/nFFznEqK-how-do-i-open-rofl-replay-files\n",
      "https://en.wikipedia.org/wiki/LOL\n",
      "http://www.teamliquid.net/forum/general/9147-rolf-lmao-etc\n",
      "http://www.urbandictionary.com/define.php?term=ROLF\n",
      "http://www.taringa.net/posts/humor/5982143/Significado-De-lol-rolf-lmao-owned-fail-wtf.html\n",
      "Pages retrieved\n",
      "3.93485999107\n"
     ]
    }
   ],
   "source": [
    "links = misc.gSearch(str(inputText.value.decode('unicode_escape').encode('ascii','ignore')))"
   ]
  },
  {
   "cell_type": "code",
   "execution_count": 5,
   "metadata": {
    "collapsed": false
   },
   "outputs": [
    {
     "name": "stdout",
     "output_type": "stream",
     "text": [
      "14\n"
     ]
    }
   ],
   "source": [
    "print len(links)"
   ]
  },
  {
   "cell_type": "code",
   "execution_count": 6,
   "metadata": {
    "collapsed": false
   },
   "outputs": [
    {
     "name": "stdout",
     "output_type": "stream",
     "text": [
      "Generating similarity vectors...\n",
      "Similarity Matrix computed\n",
      "22.6561739445\n"
     ]
    }
   ],
   "source": [
    "# 2) Create Similarity Matrix\n",
    "mtx = misc.simMatrix(links)"
   ]
  },
  {
   "cell_type": "code",
   "execution_count": 7,
   "metadata": {
    "collapsed": false
   },
   "outputs": [
    {
     "name": "stdout",
     "output_type": "stream",
     "text": [
      "[[ 0.  1.  1.  1.  1.  0.  0.  0.  1.  1.  1.  1.  1.  1.]\n",
      " [ 1.  0.  1.  1.  1.  0.  1.  1.  1.  1.  1.  1.  1.  1.]\n",
      " [ 1.  1.  0.  1.  1.  0.  0.  1.  1.  1.  1.  1.  1.  1.]\n",
      " [ 1.  1.  1.  0.  1.  0.  0.  0.  1.  1.  0.  1.  1.  1.]\n",
      " [ 1.  1.  1.  1.  0.  0.  0.  0.  1.  1.  0.  1.  1.  1.]\n",
      " [ 0.  0.  0.  0.  0.  0.  0.  1.  0.  0.  0.  0.  0.  0.]\n",
      " [ 0.  1.  0.  0.  0.  0.  0.  0.  0.  0.  1.  1.  0.  0.]\n",
      " [ 0.  1.  1.  0.  0.  1.  0.  0.  0.  0.  0.  0.  0.  1.]\n",
      " [ 1.  1.  1.  1.  1.  0.  0.  0.  0.  1.  0.  0.  1.  0.]\n",
      " [ 1.  1.  1.  1.  1.  0.  0.  0.  1.  0.  0.  1.  1.  1.]\n",
      " [ 1.  1.  1.  0.  0.  0.  1.  0.  0.  0.  0.  1.  1.  0.]\n",
      " [ 1.  1.  1.  1.  1.  0.  1.  0.  0.  1.  1.  0.  1.  1.]\n",
      " [ 1.  1.  1.  1.  1.  0.  0.  0.  1.  1.  1.  1.  0.  0.]\n",
      " [ 1.  1.  1.  1.  1.  0.  0.  1.  0.  1.  0.  1.  0.  0.]]\n"
     ]
    }
   ],
   "source": [
    "print mtx\n",
    "for i in mtx:\n",
    "    if sum(i) == 0:\n",
    "        print i\n",
    "        print \"isn't working\""
   ]
  },
  {
   "cell_type": "code",
   "execution_count": null,
   "metadata": {
    "collapsed": true
   },
   "outputs": [],
   "source": []
  }
 ],
 "metadata": {
  "anaconda-cloud": {},
  "kernelspec": {
   "display_name": "Python 2",
   "language": "python",
   "name": "python2"
  },
  "language_info": {
   "codemirror_mode": {
    "name": "ipython",
    "version": 2
   },
   "file_extension": ".py",
   "mimetype": "text/x-python",
   "name": "python",
   "nbconvert_exporter": "python",
   "pygments_lexer": "ipython2",
   "version": "2.7.13"
  },
  "widgets": {
   "state": {
    "a60108dde34c49119df36a31d165a415": {
     "views": [
      {
       "cell_index": 3
      }
     ]
    }
   },
   "version": "1.2.0"
  }
 },
 "nbformat": 4,
 "nbformat_minor": 0
}
