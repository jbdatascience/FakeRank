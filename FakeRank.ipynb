{
 "cells": [
  {
   "cell_type": "markdown",
   "metadata": {},
   "source": [
    "# FakeRank\n",
    "Hrishi Dharam, Eilam Levitov  \n",
    "March 16, 2017  "
   ]
  },
  {
   "cell_type": "markdown",
   "metadata": {},
   "source": [
    "### Abstract \n"
   ]
  },
  {
   "cell_type": "code",
   "execution_count": null,
   "metadata": {
    "collapsed": false
   },
   "outputs": [],
   "source": [
    "import numpy as np\n",
    "import util as ut\n",
    "import matplotlib.pyplot as plt\n",
    "import ipywidgets as widgets\n",
    "%matplotlib inline  "
   ]
  },
  {
   "cell_type": "code",
   "execution_count": null,
   "metadata": {
    "collapsed": false
   },
   "outputs": [],
   "source": [
    "# 1) Google Search\n",
    "inputText = widgets.Text()\n",
    "inputText"
   ]
  },
  {
   "cell_type": "code",
   "execution_count": 3,
   "metadata": {
    "collapsed": false
   },
   "outputs": [
    {
     "data": {
      "text/plain": [
       "'nande tebayo'"
      ]
     },
     "execution_count": 3,
     "metadata": {},
     "output_type": "execute_result"
    }
   ],
   "source": [
    "inputText.value.decode('unicode_escape').encode('ascii','ignore')"
   ]
  },
  {
   "cell_type": "code",
   "execution_count": 4,
   "metadata": {
    "collapsed": false
   },
   "outputs": [
    {
     "name": "stdout",
     "output_type": "stream",
     "text": [
      "Retrieving pages...\n",
      "http://www.urbandictionary.com/define.php?term=dattebayo\n",
      "http://www.gaiaonline.com/guilds-home/nande-tebayo-a-naruto-fanguild/g.7531/\n",
      "https://www.quora.com/What-is-the-meaning-of-the-term-Dattebayo-What-inspires-its-usage-Reference-Naruto-the-anime-manga\n",
      "https://www.youtube.com/user/cr7superflay\n",
      "http://dayviews.com/kelmikelmi/16707620/\n",
      "http://naruto.wikia.com/wiki/Catchphrases_and_Verbal_Tics\n",
      "http://weheartit.com/entry/group/27031345\n",
      "http://zippyaudio2.com/nande-nande\n",
      "http://www.uhull.com.br/01/23/o-verdadeiro-significado-de-datte-bayo/\n",
      "http://musichere.ws/music/nande\n",
      "http://zaycev-online.ru/?mp3=Nande\n",
      "http://animexx-en.onlinewelten.com/cosplay/153886/\n",
      "http://joyasafriend.deviantart.com/\n",
      "http://www.jeuxvideo.com/forums/42-50-38589876-1-0-1-0-recolte-de-dons-pour-squeezie-stream.htm\n",
      "https://br.answers.yahoo.com/question/index?qid=20080703135352AApnEKi\n",
      "https://forums.animesuki.com/archive/index.php/t-97.html\n",
      "http://m.vloggest.com/watch/lhistoire-dun-gars-et-dune-fille-1070211801/\n",
      "http://www.crunchyroll.com/forumtopic-138179/japanese-termswords-learned-from-anime?pg=39\n",
      "http://lang-8.com/1006722/journals/113720293653172084149963607813147729497\n",
      "https://www.kanpai.fr/culture-japonaise/signifie-ttebayo-naruto\n",
      "https://www.fanfiction.net/s/4107482/2/Fragments-of-You-and-Me\n",
      "https://www.gamefaqs.com/gamecube/929451-naruto-gekitou-ninja-taisen-4/faqs/40132\n",
      "http://www.fotolog.com/karurachan/10439039/\n",
      "http://uzubaka.tumblr.com/page/38?route=%2Fpage%2F%3Apage\n",
      "http://www.ligagame.com/forum/index.php?topic=27649.85;wap2\n",
      "http://vbox7.com/groups/20fdd8e0/discussions/322971/?skip_detect=1&ord=last\n",
      "http://forum.dofus.com/fr/redirect?poid=11555832\n",
      "http://ask.fm/UzumakiDobe\n",
      "https://gendou.com/forum/thread.php?page=79&thr=5731\n",
      "https://socialspirit.com.br/fanfics/historia/fanfiction-animes-naruto-nunca-te-deixarei-354125/capitulo3\n",
      "https://trendflix.com/challenge-chica-vampiro-corde-a-sauter-blister-vais-je-y-arriver/\n",
      "https://www.wattpad.com/257003903-the-red-scarf-naruhina-chapter-two-dense\n",
      "https://www.amor-yaoi.com/fanfic/viewstory.php?sid=50479\n",
      "http://uchihakimonochan.deviantart.com/art/Fragments-of-You-and-Me-Chap-2-63988153\n",
      "http://m.plurk.com/m/u/Kureina_Shoujo?offset=1308120776\n",
      "http://taivideoyoutube.com/watch?v=jmJhPswvpeg\n",
      "http://www.uludagsozluk.com/k/ben-ki/\n",
      "https://fanfiction.com.br/historia/331187/Sangue_Na_Lua/capitulo/3/\n",
      "https://disqus.com/home/discussion/turkanimetv/naruto_118_bolum/\n",
      "https://uzumakifamily.wordpress.com/2015/08/30/dailylive-at-uzumaki-family/comment-page-1/\n",
      "https://uzumakifamily.wordpress.com/2015/08/28/deliver-a-baby%E2%80%8F/\n",
      "https://muzofond.com/search/nande%20nande%20nande\n",
      "https://muzofond.com/search/nande\n",
      "http://floreusbellator.tumblr.com/post/30326596121/shannaro-%E3%81%86%E3%81%9A%E3%81%BE%E3%81%8D%E3%83%8A%E3%83%AB%E3%83%88-my-sakura-chan-i-missed-you\n",
      "http://floreusbellator.tumblr.com/post/32113839081/shannaro-%E3%81%86%E3%81%9A%E3%81%BE%E3%81%8D%E3%83%8A%E3%83%AB%E3%83%88-my-sakura-chan-i-missed-you\n",
      "http://sasuuuchiha.tumblr.com/post/153179311214/naru-uzumaki-%E0%B9%91-it-had\n",
      "http://istiff.com/lyrics/naruto-op-4\n",
      "http://dreams-scape.7forum.net/t72-don-t-touch-my-uke-sasunaru\n",
      "http://zapytaj.onet.pl/Category/028,009/2,9154713,Co_to_znaczy__dattebayo_z_Naruto.html\n",
      "https://en-gb.facebook.com/Drakeparker851/\n",
      "https://www.pinterest.com/pin/339458890642626800/\n",
      "http://sasunaruitakyuu.blogspot.com/2014_02_26_archive.html\n",
      "https://www.lyrics.land/suteki?page=16\n",
      "http://anima-puraa.tumblr.com/page/28\n",
      "http://x-u-z-u-m-a-k-i-x-blog.tumblr.com/post/22139343969/i-like-pie\n",
      "https://zaycev.online/tracks/nande-nande-nande\n",
      "https://spiritfanfics.com/historia/naruhina-enfim-7012103/capitulo10\n",
      "http://tsugiriuzumaki.deviantart.com/art/Solo-por-una-noche-530998518\n",
      "http://gomusicbox.ru/music/nande+ka+na\n",
      "https://iorbix.com/profile-comments?page=211&id=5308779637220\n",
      "http://impetuosity.wordpress.com/2010/04/03/naruto-489-facing-the-ninja-worlds-great-war/\n",
      "http://archiveofourown.org/comments/show_comments?chapter_id=6663242\n",
      "https://www.animenation.com/forum/anime-related-forums/anime-genre-series-studio/naruto/448-most-hated-character-in-naruto/page19\n",
      "http://www.izle.ca/Video/Detay/5PDSgwql7LU\n",
      "https://forums.hero-academia.com/threads/learning-japanese.65033/page-2\n",
      "http://dbnao.net/forum/viewtopic.php?t=2991\n",
      "http://www.tumblr.com/tagged/weigh-on-my-mind\n",
      "http://twirlywhirl.proboards.com/thread/2058?page=95\n",
      "http://junglesvibe20.net/tracks/nande_.html\n",
      "http://www.narutofic.org/viewstory.php?sid=2640\n",
      "http://youtubegogogo.com/video/SXD209s-2Ag/Littlest-Pet-Shop-Barbie-Lego-Star-Wars-Ninjago-ITV-Pre-Nol-Santa-Claus-Dmo-Jouets\n",
      "http://es.getalyric.com/escuchar/Qx2mN9fmtz0/gomenasai_hinata\n",
      "http://www.gofanfiction.club/s/5831443/24/Naruko-VS-Class-3A-ReMiX\n",
      "http://m.gofanfiction.club/s/11248343/6/\n",
      "https://kotusozluk.com/japon-milliyetcisi--2009020?page=3\n",
      "http://www.9tails.se/forums/t6722/p2/\n",
      "http://n-c-team.forumactif.com/t2719p-joie-et-bonheur-envahissent-ta-vie-ludo\n",
      "http://junglevibe24.net/tracks/nande_nande.html\n",
      "https://www.quotev.com/story/4127873/Konoha-High-School/2\n",
      "https://hivideos.net/watch?v=TiiiZUaSZHY\n",
      "http://naru-tebayo.blogspot.com/\n",
      "http://junglevibez2.net/tracks/nande_nande_nande.html\n",
      "http://uzu-ma-ki-naruto.blog.cz/0811/zajimavosti-preklad-jmena-a-techniky\n",
      "http://globalfanfiction.foroactivo.com/t5p15-18diario-de-una-historia-de-amorsasusaku\n",
      "http://templo-sasusaku.forosactivos.com/t27-kiss-kiss-fall-in-love-sasusaku-mas\n",
      "http://www.kizlarsoruyor.com/diger/q4080964-boyle-kizlar-hakkinda-ne-dusunursunuz-resimli\n",
      "http://mundoyaoi.mforos.com/1754643/9944907-el-diario-de-naruto-sasunaru/\n",
      "http://mundoyaoi.forumfree.it/?t=67214591\n",
      "http://mundoyaoi.forumfree.it/?t=67223380\n",
      "https://opify.net/en_US/video/020/9XRLabl3SiY/Victimes_de_FACE_SWAP_%2521%2521%2521_-_On_a_%25C3%25A9chang%25C3%25A9_nos_visages_%2521_D%25C3%25A9mo_Jouets\n",
      "http://fanficsasuhinalovers.blogspot.com/2014_10_01_archive.html\n",
      "http://deboj.club/topic/usuratonkachi-meaning-japanese.html\n",
      "http://fanfics.me/read2.php?id=168684\n",
      "http://zdravv.ru/watch/9pc0K00OJGI/naruto-shippuden-ultimate-ninja-storm-revolution-nos-avis-sur-le-jeu-avec-darkfuneral972.html\n",
      "https://www.mp3poisk.me/search/nande%20-%20tebayo\n",
      "http://mp3yum.top/mp3/wae45818537/nande\n",
      "http://mp3tin.xyz/mp3/nzda0fc311f4/nande\n",
      "http://mp3.pm/song/69649802/NANDE_-_TEBAYO/\n",
      "http://uzugakure.blogspot.com/2009_11_01_archive.html\n",
      "http://de.narutopedia.eu/wiki/Dattebayo\n",
      "Pages retrieved\n",
      "26.8655731678\n"
     ]
    }
   ],
   "source": [
    "links = ut.gSearch(str(inputText.value.decode('unicode_escape').encode('ascii','ignore')))"
   ]
  },
  {
   "cell_type": "code",
   "execution_count": 5,
   "metadata": {
    "collapsed": false
   },
   "outputs": [
    {
     "name": "stdout",
     "output_type": "stream",
     "text": [
      "100\n"
     ]
    }
   ],
   "source": [
    "print len(links)"
   ]
  },
  {
   "cell_type": "code",
   "execution_count": 6,
   "metadata": {
    "collapsed": false
   },
   "outputs": [
    {
     "name": "stdout",
     "output_type": "stream",
     "text": [
      "Generating similarity vectors...\n",
      "28th parse was unsuccessful :(\n",
      "30th parse was unsuccessful :(\n",
      "Similarity Matrix computed\n",
      "181.15784502\n"
     ]
    }
   ],
   "source": [
    "# 2) Create Similarity Matrix\n",
    "mtx = ut.simMatrix(links)"
   ]
  },
  {
   "cell_type": "code",
   "execution_count": 8,
   "metadata": {
    "collapsed": false
   },
   "outputs": [
    {
     "name": "stdout",
     "output_type": "stream",
     "text": [
      "[[ 0.  0.  0.  0.  0.  0.  0.  0.  0.  0.  0.  0.  0.  0.  0.  0.  0.  0.\n",
      "   0.  1.  0.  0.  0.  0.  0.  0.  0.  0.  0.  0.  0.  0.  0.  0.  0.  0.\n",
      "   0.  0.  0.  0.  0.  0.  0.  0.  0.  0.  0.  0.  0.  0.  0.  0.  0.  0.\n",
      "   0.  0.  0.  0.  0.  0.  0.  0.  0.  0.  0.  0.  0.  0.  0.  0.  0.  0.\n",
      "   0.  0.  0.  0.  0.  0.  0.  0.  0.  0.  0.  0.  0.  0.  0.  0.  0.  0.\n",
      "   0.  0.  0.  0.  0.  0.  0.  0.]\n",
      " [ 0.  0.  0.  0.  0.  0.  0.  0.  0.  0.  0.  0.  0.  0.  0.  0.  0.  0.\n",
      "   0.  0.  0.  0.  0.  0.  0.  0.  0.  0.  0.  0.  0.  0.  0.  0.  0.  0.\n",
      "   0.  0.  0.  0.  0.  0.  0.  0.  0.  0.  0.  0.  0.  0.  0.  0.  0.  0.\n",
      "   0.  0.  0.  0.  0.  0.  0.  0.  0.  0.  0.  0.  0.  0.  0.  0.  0.  0.\n",
      "   0.  0.  0.  0.  0.  0.  0.  0.  0.  0.  0.  0.  0.  0.  0.  0.  0.  0.\n",
      "   0.  0.  0.  0.  0.  0.  0.  0.]\n",
      " [ 0.  0.  0.  0.  0.  0.  0.  0.  0.  0.  0.  0.  0.  0.  0.  0.  0.  0.\n",
      "   0.  0.  0.  0.  0.  0.  0.  0.  0.  0.  0.  0.  0.  1.  0.  0.  0.  0.\n",
      "   0.  0.  0.  0.  0.  0.  0.  0.  0.  0.  0.  0.  0.  0.  0.  0.  0.  0.\n",
      "   0.  1.  0.  0.  0.  0.  0.  0.  0.  0.  0.  0.  0.  0.  0.  0.  0.  0.\n",
      "   0.  0.  0.  0.  0.  0.  0.  0.  0.  0.  0.  0.  0.  0.  0.  0.  0.  0.\n",
      "   0.  0.  0.  0.  0.  0.  0.  0.]\n",
      " [ 0.  0.  0.  0.  0.  1.  1.  0.  0.  0.  0.  0.  0.  0.  0.  0.  0.  0.\n",
      "   0.  0.  0.  0.  0.  0.  0.  0.  0.  0.  0.  0.  0.  0.  0.  0.  0.  0.\n",
      "   0.  0.  0.  0.  0.  0.  0.  0.  0.  0.  0.  0.  0.  0.  0.  0.  0.  0.\n",
      "   0.  0.  0.  0.  0.  1.  0.  0.  0.  0.  0.  0.  0.  0.  0.  0.  0.  0.\n",
      "   0.  0.  0.  0.  0.  0.  0.  0.  0.  0.  0.  0.  0.  0.  0.  0.  0.  0.\n",
      "   0.  0.  0.  1.  1.  0.  0.  0.]\n",
      " [ 0.  0.  1.  0.  0.  1.  1.  0.  1.  0.  0.  0.  0.  0.  0.  0.  0.  0.\n",
      "   0.  0.  0.  0.  0.  0.  0.  0.  0.  0.  1.  0.  1.  0.  0.  0.  0.  1.\n",
      "   0.  0.  0.  0.  0.  0.  0.  0.  0.  1.  0.  0.  0.  0.  0.  1.  0.  0.\n",
      "   1.  0.  0.  0.  0.  0.  0.  0.  0.  0.  0.  0.  0.  0.  0.  0.  0.  0.\n",
      "   0.  0.  1.  0.  0.  1.  0.  0.  0.  1.  1.  0.  1.  0.  0.  0.  0.  0.\n",
      "   0.  0.  0.  0.  0.  0.  0.  0.]\n",
      " [ 1.  1.  1.  0.  0.  1.  1.  1.  0.  0.  0.  0.  0.  0.  0.  0.  1.  0.\n",
      "   0.  0.  1.  1.  0.  1.  0.  0.  0.  1.  0.  1.  0.  1.  0.  0.  0.  0.\n",
      "   0.  0.  0.  0.  0.  1.  1.  1.  1.  0.  0.  0.  0.  0.  1.  1.  0.  0.\n",
      "   0.  0.  0.  0.  1.  0.  1.  0.  1.  0.  1.  1.  1.  1.  0.  1.  1.  0.\n",
      "   0.  0.  0.  0.  1.  0.  0.  1.  0.  0.  0.  0.  0.  0.  0.  0.  0.  1.\n",
      "   0.  0.  1.  0.  0.  0.  0.  0.]\n",
      " [ 0.  0.  0.  0.  0.  1.  0.  0.  0.  0.  0.  0.  0.  0.  0.  1.  0.  0.\n",
      "   0.  0.  0.  0.  0.  1.  0.  0.  0.  1.  0.  0.  0.  0.  0.  0.  0.  0.\n",
      "   0.  0.  0.  0.  0.  0.  0.  0.  0.  0.  0.  0.  0.  0.  0.  0.  0.  0.\n",
      "   0.  0.  0.  0.  1.  0.  0.  0.  1.  0.  0.  0.  0.  0.  0.  0.  0.  0.\n",
      "   0.  0.  0.  0.  0.  1.  0.  0.  0.  0.  0.  0.  0.  0.  0.  0.  0.  0.\n",
      "   0.  0.  0.  0.  0.  0.  0.  0.]\n",
      " [ 0.  0.  1.  0.  0.  0.  0.  0.  0.  0.  0.  0.  0.  0.  0.  0.  0.  0.\n",
      "   0.  0.  0.  0.  0.  1.  0.  0.  0.  0.  0.  0.  0.  0.  0.  0.  0.  0.\n",
      "   0.  0.  0.  0.  0.  1.  1.  1.  0.  0.  0.  0.  0.  0.  0.  1.  1.  0.\n",
      "   0.  0.  0.  0.  0.  0.  0.  0.  0.  0.  0.  0.  0.  0.  0.  0.  0.  0.\n",
      "   0.  0.  0.  0.  0.  0.  0.  0.  0.  0.  0.  0.  0.  0.  0.  0.  0.  0.\n",
      "   0.  0.  0.  0.  0.  0.  0.  0.]\n",
      " [ 0.  0.  0.  0.  0.  0.  0.  0.  0.  0.  0.  0.  0.  0.  0.  0.  0.  0.\n",
      "   0.  0.  0.  0.  0.  0.  0.  0.  0.  0.  0.  0.  0.  0.  0.  0.  0.  0.\n",
      "   0.  0.  0.  0.  0.  0.  0.  0.  0.  0.  0.  0.  0.  0.  0.  0.  0.  0.\n",
      "   0.  0.  0.  0.  0.  0.  0.  0.  0.  0.  0.  0.  0.  0.  0.  0.  0.  0.\n",
      "   0.  0.  0.  0.  0.  0.  0.  0.  0.  0.  0.  0.  0.  0.  0.  0.  0.  0.\n",
      "   0.  0.  0.  0.  0.  0.  0.  0.]\n",
      " [ 0.  0.  0.  0.  0.  0.  0.  0.  0.  0.  1.  0.  0.  0.  0.  0.  0.  0.\n",
      "   0.  0.  0.  0.  0.  0.  0.  0.  0.  0.  0.  0.  0.  0.  0.  0.  0.  0.\n",
      "   0.  0.  0.  0.  0.  0.  0.  0.  0.  0.  0.  0.  0.  0.  0.  0.  0.  0.\n",
      "   0.  0.  0.  0.  0.  0.  0.  0.  0.  0.  0.  0.  0.  0.  0.  0.  0.  0.\n",
      "   0.  0.  0.  0.  0.  0.  0.  0.  0.  0.  0.  0.  0.  0.  0.  0.  0.  0.\n",
      "   0.  1.  0.  0.  0.  0.  0.  0.]]\n"
     ]
    }
   ],
   "source": [
    "print mtx[10:20]"
   ]
  },
  {
   "cell_type": "code",
   "execution_count": null,
   "metadata": {
    "collapsed": true
   },
   "outputs": [],
   "source": []
  }
 ],
 "metadata": {
  "anaconda-cloud": {},
  "kernelspec": {
   "display_name": "Python [default]",
   "language": "python",
   "name": "python2"
  },
  "language_info": {
   "codemirror_mode": {
    "name": "ipython",
    "version": 2
   },
   "file_extension": ".py",
   "mimetype": "text/x-python",
   "name": "python",
   "nbconvert_exporter": "python",
   "pygments_lexer": "ipython2",
   "version": "2.7.13"
  },
  "widgets": {
   "state": {
    "1c772833a8ea4fa6b2ebd6ed787cc05e": {
     "views": [
      {
       "cell_index": 3
      }
     ]
    }
   },
   "version": "1.2.0"
  }
 },
 "nbformat": 4,
 "nbformat_minor": 0
}
