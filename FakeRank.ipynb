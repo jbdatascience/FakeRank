{
 "cells": [
  {
   "cell_type": "markdown",
   "metadata": {},
   "source": [
    "# FakeRank\n",
    "Hrishi Dharam, Eilam Levitov  \n",
    "March 16, 2017  "
   ]
  },
  {
   "cell_type": "markdown",
   "metadata": {},
   "source": [
    "### Abstract \n"
   ]
  },
  {
   "cell_type": "code",
   "execution_count": 1,
   "metadata": {
    "collapsed": false
   },
   "outputs": [
    {
     "name": "stderr",
     "output_type": "stream",
     "text": [
      "/Users/Hrishid/anaconda2/lib/python2.7/site-packages/matplotlib/font_manager.py:273: UserWarning: Matplotlib is building the font cache using fc-list. This may take a moment.\n",
      "  warnings.warn('Matplotlib is building the font cache using fc-list. This may take a moment.')\n"
     ]
    }
   ],
   "source": [
    "import numpy as np\n",
    "import util # Linear Algebra/PageRank\n",
    "import misc # Random libraries and graphing\n",
    "import matplotlib.pyplot as plt\n",
    "import ipywidgets as widgets\n",
    "%matplotlib inline  "
   ]
  },
  {
   "cell_type": "code",
   "execution_count": 3,
   "metadata": {
    "collapsed": false
   },
   "outputs": [],
   "source": [
    "# 1) Google Search\n",
    "inputText = widgets.Text()\n",
    "inputText"
   ]
  },
  {
   "cell_type": "code",
   "execution_count": 5,
   "metadata": {
    "collapsed": false
   },
   "outputs": [
    {
     "data": {
      "text/plain": [
       "'tea carpet'"
      ]
     },
     "execution_count": 5,
     "metadata": {},
     "output_type": "execute_result"
    }
   ],
   "source": [
    "inputText.value.decode('unicode_escape').encode('ascii','ignore')"
   ]
  },
  {
   "cell_type": "code",
   "execution_count": 6,
   "metadata": {
    "collapsed": false
   },
   "outputs": [
    {
     "name": "stdout",
     "output_type": "stream",
     "text": [
      "Retrieving pages...\n",
      "http://spotremoval.coit.com/how-to-remove-tea-stains-from-carpet\n",
      "https://www.thespruce.com/remove-tea-stains-from-carpet-1901023\n",
      "http://www.rd.com/home/cleaning-organizing/homemade-carpet-stain-removers/\n",
      "http://www.howtocleanstuff.net/how-to-remove-tea-stains-from-carpet/\n",
      "http://housekeeping.about.com/od/stainremoval/ht/Remove-Tea-Stains-From-Carpet.htm\n",
      "https://www.reference.com/home-garden/remove-dry-tea-stains-carpets-cdbdaf621c8d4c15\n",
      "https://www.mohawkflooring.com/Carpet-search/Distinguished%20Creation/Afternoon%20Tea\n",
      "http://tea-and-carpets.blogspot.com/\n",
      "http://www.doityourself.com/forum/wall-flooring-indoor-tiling/189801-old-tea-stain-carpet.html\n",
      "http://www.stainmaster.com/carpet/care/stain-removal/tea-herbal\n",
      "https://www.youtube.com/watch?v=aB3FLeY7V4I\n",
      "https://www.youtube.com/watch?v=fUpR4T_jX6g\n",
      "https://shawfloors.com/flooring/carpet/details/vermont-(t)-e0271/sweet-tea\n",
      "https://www.realsimple.com/home-organizing/cleaning/cleaning-stain-removal/carpet-stain-solutions\n",
      "https://www.mumsnet.com/Talk/housekeeping/494491-help-tea-stain-on-carpet-how-do-i-remove-it\n",
      "http://www.kidspot.com.au/lifestyle/home/home-solutions/how-to-remove-tea-stains\n",
      "http://www.how-to-clean-carpet.com/tea-carpet.htm\n",
      "http://www.helpmeclean.com.au/how-to-clean-carpet-stains/\n",
      "http://carpetcleanermachinesreviews.com/cleaning-tea-stains-from-your-carpet.html\n",
      "https://www.vanish.co.uk/stain-solver/tea-on-carpets-solution-1/\n",
      "http://www.drysolutions.com/removing-tea-stains-from-your-wool-carpet/\n",
      "http://www.rosevillecarpetoneroseville.com/remove-coffee-or-tea-stains-from-carpet-flooring-tips-tricks\n",
      "http://www.cleanedbyextreme.com/2013/04/24/how-to-remove-iced-tea-stains-on-the-rug/\n",
      "http://www.powerofresolve.com/carpet-stains/food-drink/tea/\n",
      "https://www.wolfeflooring.com/maintenance/carpet-stain-removal-guide/how-to-remove-tea-stain-from-carpet-or-a-rug/\n",
      "http://homeguides.sfgate.com/remove-iced-tea-stain-20418.html\n",
      "http://www.homeadvisor.com/c.Carpet-Upholstery-Cleaning.Tea.SD.-12011.html\n",
      "http://www.summitcleaningsupply.com/how_to_remove_tea_stains_from_carpet\n",
      "http://www.howtocleananything.com/home-interior-tips/carpets/tea-stains-from-carpet/\n",
      "http://www.homedepot.com/p/Home-Decorators-Collection-Southwick-Color-Sweet-Tea-12-ft-Carpet-0273D-TX12-12/202960980\n",
      "Pages retrieved\n",
      "96.0732839108\n"
     ]
    }
   ],
   "source": [
    "links = misc.gSearch(str(inputText.value.decode('unicode_escape').encode('ascii','ignore')))"
   ]
  },
  {
   "cell_type": "code",
   "execution_count": null,
   "metadata": {
    "collapsed": false
   },
   "outputs": [
    {
     "name": "stdout",
     "output_type": "stream",
     "text": [
      "30\n"
     ]
    }
   ],
   "source": [
    "print len(links)"
   ]
  },
  {
   "cell_type": "code",
   "execution_count": null,
   "metadata": {
    "collapsed": false
   },
   "outputs": [
    {
     "name": "stdout",
     "output_type": "stream",
     "text": [
      "Generating similarity vectors...\n"
     ]
    }
   ],
   "source": [
    "# 2) Create Similarity Matrix\n",
    "mtx = misc.simMatrix(links)"
   ]
  },
  {
   "cell_type": "code",
   "execution_count": 13,
   "metadata": {
    "collapsed": false
   },
   "outputs": [
    {
     "name": "stdout",
     "output_type": "stream",
     "text": [
      "[ 0.  0.  0.  0.  0.  0.  0.  0.  0.  0.  0.  0.  0.  0.  0.  0.  0.  0.\n",
      "  0.  0.  0.  0.  0.  0.  0.  0.  0.  0.  0.  0.  0.  0.  0.  0.  0.  0.\n",
      "  0.  0.  0.  0.  0.  0.  0.  0.  0.  0.  0.  0.  0.  0.  0.  0.  0.  0.\n",
      "  0.  0.  0.  0.  0.  0.  0.  0.  0.  0.  0.  0.  0.  0.  0.  0.  0.  0.\n",
      "  0.  0.  0.  0.  0.  0.  0.  0.  0.  0.  0.  0.  0.  0.  0.  0.  0.  0.\n",
      "  0.  0.  0.  0.  0.  0.  0.  0.  0.  0.]\n",
      "isn't working\n",
      "[ 0.  0.  0.  0.  0.  0.  0.  0.  0.  0.  0.  0.  0.  0.  0.  0.  0.  0.\n",
      "  0.  0.  0.  0.  0.  0.  0.  0.  0.  0.  0.  0.  0.  0.  0.  0.  0.  0.\n",
      "  0.  0.  0.  0.  0.  0.  0.  0.  0.  0.  0.  0.  0.  0.  0.  0.  0.  0.\n",
      "  0.  0.  0.  0.  0.  0.  0.  0.  0.  0.  0.  0.  0.  0.  0.  0.  0.  0.\n",
      "  0.  0.  0.  0.  0.  0.  0.  0.  0.  0.  0.  0.  0.  0.  0.  0.  0.  0.\n",
      "  0.  0.  0.  0.  0.  0.  0.  0.  0.  0.]\n",
      "isn't working\n",
      "[ 0.  0.  0.  0.  0.  0.  0.  0.  0.  0.  0.  0.  0.  0.  0.  0.  0.  0.\n",
      "  0.  0.  0.  0.  0.  0.  0.  0.  0.  0.  0.  0.  0.  0.  0.  0.  0.  0.\n",
      "  0.  0.  0.  0.  0.  0.  0.  0.  0.  0.  0.  0.  0.  0.  0.  0.  0.  0.\n",
      "  0.  0.  0.  0.  0.  0.  0.  0.  0.  0.  0.  0.  0.  0.  0.  0.  0.  0.\n",
      "  0.  0.  0.  0.  0.  0.  0.  0.  0.  0.  0.  0.  0.  0.  0.  0.  0.  0.\n",
      "  0.  0.  0.  0.  0.  0.  0.  0.  0.  0.]\n",
      "isn't working\n",
      "[ 0.  0.  0.  0.  0.  0.  0.  0.  0.  0.  0.  0.  0.  0.  0.  0.  0.  0.\n",
      "  0.  0.  0.  0.  0.  0.  0.  0.  0.  0.  0.  0.  0.  0.  0.  0.  0.  0.\n",
      "  0.  0.  0.  0.  0.  0.  0.  0.  0.  0.  0.  0.  0.  0.  0.  0.  0.  0.\n",
      "  0.  0.  0.  0.  0.  0.  0.  0.  0.  0.  0.  0.  0.  0.  0.  0.  0.  0.\n",
      "  0.  0.  0.  0.  0.  0.  0.  0.  0.  0.  0.  0.  0.  0.  0.  0.  0.  0.\n",
      "  0.  0.  0.  0.  0.  0.  0.  0.  0.  0.]\n",
      "isn't working\n"
     ]
    }
   ],
   "source": [
    "#print mtx[10:20]\n",
    "for i in mtx:\n",
    "    if sum(i) == 0:\n",
    "        print i\n",
    "        print \"isn't working\""
   ]
  },
  {
   "cell_type": "code",
   "execution_count": null,
   "metadata": {
    "collapsed": true
   },
   "outputs": [],
   "source": []
  }
 ],
 "metadata": {
  "anaconda-cloud": {},
  "kernelspec": {
   "display_name": "Python [default]",
   "language": "python",
   "name": "python2"
  },
  "language_info": {
   "codemirror_mode": {
    "name": "ipython",
    "version": 2
   },
   "file_extension": ".py",
   "mimetype": "text/x-python",
   "name": "python",
   "nbconvert_exporter": "python",
   "pygments_lexer": "ipython2",
   "version": "2.7.9"
  },
  "widgets": {
   "state": {
    "05e9bfdd41414e8798f1c1bebbd2ccf8": {
     "views": [
      {
       "cell_index": 3
      }
     ]
    }
   },
   "version": "1.2.0"
  }
 },
 "nbformat": 4,
 "nbformat_minor": 0
}
