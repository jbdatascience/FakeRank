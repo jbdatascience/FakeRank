{
 "cells": [
  {
   "cell_type": "markdown",
   "metadata": {},
   "source": [
    "# FakeRank\n",
    "Hrishi Dharam, Eilam Levitov  \n",
    "March 16, 2017  "
   ]
  },
  {
   "cell_type": "markdown",
   "metadata": {},
   "source": [
    "### Abstract \n"
   ]
  },
  {
   "cell_type": "code",
   "execution_count": 1,
   "metadata": {
    "collapsed": false
   },
   "outputs": [],
   "source": [
    "import numpy as np\n",
    "import util # Linear Algebra/PageRank\n",
    "import misc # Random libraries and graphing\n",
    "import matplotlib.pyplot as plt\n",
    "import ipywidgets as widgets\n",
    "%matplotlib inline  "
   ]
  },
  {
   "cell_type": "code",
   "execution_count": 2,
   "metadata": {
    "collapsed": false
   },
   "outputs": [],
   "source": [
    "# 1) Google Search\n",
    "inputText = widgets.Text()\n",
    "inputText"
   ]
  },
  {
   "cell_type": "code",
   "execution_count": 3,
   "metadata": {
    "collapsed": false
   },
   "outputs": [
    {
     "data": {
      "text/plain": [
       "'fuckoff'"
      ]
     },
     "execution_count": 3,
     "metadata": {},
     "output_type": "execute_result"
    }
   ],
   "source": [
    "inputText.value.decode('unicode_escape').encode('ascii','ignore')"
   ]
  },
  {
   "cell_type": "code",
   "execution_count": 4,
   "metadata": {
    "collapsed": false
   },
   "outputs": [
    {
     "name": "stdout",
     "output_type": "stream",
     "text": [
      "Retrieving pages...\n",
      "http://www.urbandictionary.com/define.php?term=fuck%20off\n",
      "http://dictionary.cambridge.org/us/dictionary/english/fuck-off\n",
      "http://www.dictionary.com/browse/fuck--off\n",
      "http://www.dictionary.com/browse/fuckoff\n",
      "https://www.collinsdictionary.com/us/dictionary/english/fuck-off\n",
      "https://www.youtube.com/watch?v=bPWVq6MwW4E\n",
      "https://en.oxforddictionaries.com/definition/fuck_off\n",
      "http://giphy.com/search/fuck-off\n",
      "https://www.merriam-webster.com/dictionary/fuck%20off\n",
      "https://en.wiktionary.org/wiki/fuck_off\n",
      "http://uncyclopedia.wikia.com/wiki/HowTo:Fuck_Off\n",
      "http://www.thefreedictionary.com/fuck+off\n",
      "http://www.spanishdict.com/translate/fuck%20off\n",
      "https://en.wikipedia.org/wiki/Fuck_off\n",
      "http://dictionary.reverso.net/english-cobuild/fuck%20off\n",
      "https://genius.com/The-lonely-island-fuck-off-lyrics\n",
      "https://www.facebook.com/PionerosDelThrash/\n",
      "http://pitchfork.com/news/54297-frank-ocean-to-chipotle-fuck-off/\n",
      "https://fuckoffanddies.bandcamp.com/\n",
      "http://en.bab.la/dictionary/english-french/fuck-off\n",
      "https://twitter.com/fuckoff?lang=en\n",
      "http://natribu.org/en/\n",
      "http://www.metal-archives.com/bands/Fuck_Off/19880\n",
      "https://www.beatport.com/track/fuck-off-original-mix/6567018\n",
      "http://www.independent.co.uk/news/uk/politics/labour-mp-jess-phillips-told-diane-abbott-to-f-off-in-jeremy-corbyn-sexism-row-10505493.html\n",
      "http://theconcourse.deadspin.com/fuck-off-grrm-1793030143\n",
      "http://deadspin.com/fuck-off-kobe-1745231527\n",
      "https://www.amazon.com/dgp-Eye-Mask-Fuck-Off/dp/B004J776UM\n",
      "https://www.instagram.com/explore/tags/fuckoff/?hl=en\n",
      "https://www.quora.com/What-is-the-difference-between-fuck-you-and-fuck-off\n",
      "https://github.com/tomdionysus/foaas\n",
      "https://www.whatdropsnow.com/products/made-by-ngo-fuck-off-hoodie-grey\n",
      "https://soundcloud.com/hooliganhef/fuckoff-hooliganhefs\n",
      "https://teespring.com/shop/fuckoffhidden\n",
      "https://vimeo.com/43184033\n",
      "http://www.reactiongifs.us/tag/fuck-off/\n",
      "http://www.interglot.com/dictionary/en/sv/translate/fuck%20off\n",
      "https://forum.wordreference.com/threads/fuck-you-fuck-off.219748/\n",
      "http://popkey.co/search/fuck%20off\n",
      "http://www.azlyrics.com/lyrics/kidrock/fuckoff.html\n",
      "https://www.foaas.com/\n",
      "https://thebillfold.com/a-story-of-a-fuck-off-fund-648401263659\n",
      "http://humanwithattitude.com/\n",
      "http://www.esquire.com/news-politics/news/a53064/piers-morgan-jim-jefferies/\n",
      "https://www.italki.com/question/51753?hl=en-us\n",
      "https://www.reddit.com/r/FuckOff/\n",
      "http://www.adventurouskate.com/quit-fucking-around-and-build-yourself-a-fuck-off-fund/\n",
      "http://www.tetongravity.com/forums/showthread.php/296471-So-how-often-do-you-tell-the-Misses-to-FUCK-OFF!!!\n",
      "http://www.riverfronttimes.com/stlouis/best-side-project/BestOf?oid=2511438\n",
      "http://www.lyrics.com/lyrics/fuck%20off\n",
      "https://www.amazon.ca/Fuck-Off-Im-Coloring-Obnoxiously/dp/1604336617\n",
      "http://www.buzzfeed.com/jamieross/larks-in-larkhall\n",
      "http://www.dict.cc/english-german/Fuck+off.html\n",
      "https://streamable.com/akbl\n",
      "https://www.discogs.com/label/68359-Fuck-Off-Records-2\n",
      "https://www.translate.com/urdu/fuck-off/25289823\n",
      "http://www.shoparthurgeorge.com/products/fuck-off-socks-arthur-george\n",
      "https://qz.com/602515/the-feminist-implications-of-the-fuck-off-fund/\n",
      "http://mean-mugs.myshopify.com/products/fuck-off\n",
      "https://news.ycombinator.com/item?id=6069353\n",
      "https://www.chapters.indigo.ca/en-ca/books/fuck-off-im-coloring-unwind/9781604336610-item.html\n",
      "https://en.wikiquote.org/wiki/Talk:The_Who\n",
      "https://www.musixmatch.com/lyrics/The-Young-Professionals/Fuck-off-berlin\n",
      "https://www.redbubble.com/shop/fuck+off+mugs\n",
      "https://www.anonymous-france.eu/IMG/pdf/the-invisible-committee-fuck-off-google.pdf\n",
      "http://www.justfuckoff.co/\n",
      "http://www.imdb.com/title/tt0066215/\n",
      "https://www.myinstants.com/instant/fuck-off/\n",
      "http://fuckofftape.com/buy.php\n",
      "https://www.shopisabelli.com/fuck-off-tee.html\n",
      "http://www.setlist.fm/setlists/fuck-off-13d79909.html\n",
      "https://www.terrapinstationers.com/products/fuck-off-a6-note-cards\n",
      "http://hesaidshesaid.bigcartel.com/product/fuck-off-nameplate\n",
      "http://junkee.com/aussie-comedian-jim-jeffries-told-piers-morgan-fuck-off-defending-trumps-muslim-ban/95777\n",
      "https://noisey.vice.com/en_us/article/a-brief-history-of-musicians-telling-politicians-republicans-to-fuck-off\n",
      "https://lovelucyford.com/collections/shirts/products/fuck-off-shirt\n",
      "http://www.glossblack.org/new-products/fuck-off\n",
      "http://www.refinery29.com/2016/01/101685/fuck-off-fund\n",
      "http://www.salon.com/2016/02/15/beyond_the_fk_off_fund_even_if_youre_bad_with_money_you_can_take_control_of_your_finances_for_the_long_term/\n",
      "http://www.whosampled.com/sample/337626/Forze-DJ-Team-Step-the-Fuck-Off-CB4-Introduction/\n",
      "http://www.ticketfly.com/event/1144295-total-punks-total-fuck-off-orlando/\n",
      "http://www.ticketfly.com/event/1258691-fuck-off-dies-st-louis/\n",
      "http://www.eelcovandenberg.com/press/fuck-off-1/\n",
      "http://qtalkamerica.com/2017/03/14/the-show-298-fuck-off-sylvia/\n",
      "http://thequietus.com/articles/16726-robert-plant-interview\n",
      "https://www.ivoox.com/the-show-298-fuck-off-sylvia-audios-mp3_rf_17575956_1.html\n",
      "http://www.blogtalkradio.com/psychologyinseattle/2016/01/29/fuck-off-fund-by-paulette-perhach\n",
      "http://www.mapmyride.com/gb/darfield-eng/discovery-sarah-off-route-214303405\n",
      "https://theanarchistlibrary.org/library/the-invisible-committe-to-our-friends\n",
      "http://www.hot-guild.com/Forum/viewtopic.php?t=31013\n",
      "https://br.pinterest.com/pin/462744930444434224/\n",
      "http://www.djtunes.com/reefercool-2/wonder-of-manchester-vol-19/fuck-off-original-mix__8172931\n",
      "https://onsizzle.com/i/me-whats-your-name-sweetheart-her-fuck-off-loser-me-11046474\n",
      "Pages retrieved\n",
      "30.8214659691\n"
     ]
    }
   ],
   "source": [
    "links = misc.gSearch(str(inputText.value.decode('unicode_escape').encode('ascii','ignore')))"
   ]
  },
  {
   "cell_type": "code",
   "execution_count": 5,
   "metadata": {
    "collapsed": false
   },
   "outputs": [
    {
     "name": "stdout",
     "output_type": "stream",
     "text": [
      "93\n"
     ]
    }
   ],
   "source": [
    "print len(links)"
   ]
  },
  {
   "cell_type": "code",
   "execution_count": 6,
   "metadata": {
    "collapsed": false
   },
   "outputs": [
    {
     "name": "stdout",
     "output_type": "stream",
     "text": [
      "Generating similarity vectors...\n",
      "Similarity Matrix computed\n",
      "169.416840076\n"
     ]
    }
   ],
   "source": [
    "# 2) Create Similarity Matrix\n",
    "mtx = misc.simMatrix(links)"
   ]
  },
  {
   "cell_type": "code",
   "execution_count": 7,
   "metadata": {
    "collapsed": false
   },
   "outputs": [
    {
     "name": "stdout",
     "output_type": "stream",
     "text": [
      "[[ 1.  1.  1.  1.  1.  1.  1.  1.  1.  1.  0.  1.  1.  1.  1.  1.  1.  1.\n",
      "   1.  1.  1.  1.  1.  1.  1.  1.  1.  1.  1.  1.  1.  1.  1.  1.  1.  1.\n",
      "   1.  1.  1.  1.  1.  1.  1.  1.  1.  1.  1.  1.  1.  1.  1.  1.  1.  1.\n",
      "   1.  1.  1.  1.  1.  1.  1.  1.  1.  1.  1.  1.  1.  1.  1.  1.  1.  1.\n",
      "   1.  1.  1.  1.  1.  1.  1.  1.  1.  1.  1.  1.  1.  1.  1.  1.  1.  1.\n",
      "   1.  1.  1.]\n",
      " [ 1.  1.  1.  1.  1.  1.  1.  1.  1.  1.  1.  0.  1.  1.  1.  1.  1.  1.\n",
      "   1.  1.  1.  1.  1.  1.  1.  1.  1.  1.  1.  1.  1.  1.  1.  1.  1.  1.\n",
      "   1.  1.  1.  1.  1.  1.  1.  1.  1.  1.  1.  1.  1.  1.  1.  1.  1.  1.\n",
      "   1.  1.  1.  1.  1.  1.  1.  1.  1.  1.  1.  1.  1.  1.  1.  1.  1.  1.\n",
      "   1.  1.  1.  1.  1.  1.  1.  1.  1.  1.  1.  1.  1.  1.  1.  1.  1.  1.\n",
      "   1.  1.  1.]\n",
      " [ 1.  1.  1.  1.  1.  1.  1.  1.  1.  1.  1.  1.  0.  1.  1.  1.  1.  1.\n",
      "   1.  1.  1.  1.  1.  1.  1.  1.  1.  1.  1.  1.  1.  1.  1.  1.  1.  1.\n",
      "   1.  1.  1.  1.  1.  1.  1.  1.  1.  1.  1.  1.  1.  1.  1.  1.  1.  1.\n",
      "   1.  1.  1.  1.  1.  1.  1.  1.  1.  1.  1.  1.  1.  1.  1.  1.  1.  1.\n",
      "   1.  1.  1.  1.  1.  1.  1.  1.  1.  1.  1.  1.  1.  1.  1.  1.  1.  1.\n",
      "   1.  1.  1.]\n",
      " [ 1.  1.  1.  1.  1.  1.  1.  1.  1.  1.  1.  1.  1.  0.  1.  1.  1.  1.\n",
      "   1.  1.  1.  1.  1.  1.  1.  1.  1.  1.  1.  1.  1.  1.  1.  1.  1.  1.\n",
      "   1.  1.  1.  1.  1.  1.  1.  1.  1.  1.  1.  1.  1.  1.  1.  1.  1.  1.\n",
      "   1.  1.  1.  1.  1.  1.  1.  1.  1.  1.  1.  1.  1.  1.  1.  1.  1.  1.\n",
      "   1.  1.  1.  1.  1.  1.  1.  1.  1.  1.  1.  1.  1.  1.  1.  1.  1.  1.\n",
      "   1.  1.  1.]\n",
      " [ 1.  1.  1.  1.  1.  1.  1.  1.  1.  1.  1.  1.  1.  1.  0.  1.  1.  1.\n",
      "   1.  1.  1.  1.  1.  1.  1.  1.  1.  1.  1.  1.  1.  1.  1.  1.  1.  1.\n",
      "   1.  1.  1.  1.  1.  1.  1.  1.  1.  1.  1.  1.  1.  1.  1.  1.  1.  1.\n",
      "   1.  1.  1.  1.  1.  1.  1.  1.  1.  1.  1.  1.  1.  1.  1.  1.  1.  1.\n",
      "   1.  1.  1.  1.  1.  1.  1.  1.  1.  1.  1.  1.  1.  1.  1.  1.  1.  1.\n",
      "   1.  1.  1.]\n",
      " [ 1.  1.  1.  1.  1.  1.  1.  1.  1.  1.  1.  1.  1.  1.  1.  0.  1.  1.\n",
      "   1.  1.  1.  1.  1.  1.  1.  1.  1.  1.  1.  1.  1.  1.  1.  1.  1.  1.\n",
      "   1.  1.  1.  1.  1.  1.  1.  1.  1.  1.  1.  1.  1.  1.  1.  1.  1.  1.\n",
      "   1.  1.  1.  1.  1.  1.  1.  1.  1.  1.  1.  1.  1.  1.  1.  1.  1.  1.\n",
      "   1.  1.  1.  1.  1.  1.  1.  1.  1.  1.  1.  1.  1.  1.  1.  1.  1.  1.\n",
      "   1.  1.  1.]\n",
      " [ 1.  1.  1.  1.  1.  1.  1.  1.  1.  1.  1.  1.  1.  1.  1.  1.  0.  1.\n",
      "   1.  1.  1.  1.  1.  1.  1.  1.  1.  1.  1.  1.  1.  1.  1.  1.  1.  1.\n",
      "   1.  1.  1.  1.  1.  1.  1.  1.  1.  1.  1.  1.  1.  1.  1.  1.  1.  1.\n",
      "   1.  1.  1.  1.  1.  1.  1.  1.  1.  1.  1.  1.  1.  1.  1.  1.  1.  1.\n",
      "   1.  1.  1.  1.  1.  1.  1.  1.  1.  1.  1.  1.  1.  1.  1.  1.  1.  1.\n",
      "   1.  1.  1.]\n",
      " [ 1.  1.  1.  1.  1.  1.  1.  1.  1.  1.  1.  1.  1.  1.  1.  1.  1.  0.\n",
      "   1.  1.  1.  1.  1.  1.  1.  1.  1.  1.  1.  1.  1.  1.  1.  1.  1.  1.\n",
      "   1.  1.  1.  1.  1.  1.  1.  1.  1.  1.  1.  1.  1.  1.  1.  1.  1.  1.\n",
      "   1.  1.  1.  1.  1.  1.  1.  1.  1.  1.  1.  1.  1.  1.  1.  1.  1.  1.\n",
      "   1.  1.  1.  1.  1.  1.  1.  1.  1.  1.  1.  1.  1.  1.  1.  1.  1.  1.\n",
      "   1.  1.  1.]\n",
      " [ 1.  1.  1.  1.  1.  1.  1.  1.  1.  1.  1.  1.  1.  1.  1.  1.  1.  1.\n",
      "   0.  1.  1.  1.  1.  1.  1.  1.  1.  1.  1.  1.  1.  1.  1.  1.  1.  1.\n",
      "   1.  1.  1.  1.  1.  1.  1.  1.  1.  1.  1.  1.  1.  1.  1.  1.  1.  1.\n",
      "   1.  1.  1.  1.  1.  1.  1.  1.  1.  1.  1.  1.  1.  1.  1.  1.  1.  1.\n",
      "   1.  1.  1.  1.  1.  1.  1.  1.  1.  1.  1.  1.  1.  1.  1.  1.  1.  1.\n",
      "   1.  1.  1.]\n",
      " [ 1.  1.  1.  1.  1.  1.  1.  1.  1.  1.  1.  1.  1.  1.  1.  1.  1.  1.\n",
      "   1.  0.  1.  1.  1.  1.  1.  1.  1.  1.  1.  1.  1.  1.  1.  1.  1.  1.\n",
      "   1.  1.  1.  1.  1.  1.  1.  1.  1.  1.  1.  1.  1.  1.  1.  1.  1.  1.\n",
      "   1.  1.  1.  1.  1.  1.  1.  1.  1.  1.  1.  1.  1.  1.  1.  1.  1.  1.\n",
      "   1.  1.  1.  1.  1.  1.  1.  1.  1.  1.  1.  1.  1.  1.  1.  1.  1.  1.\n",
      "   1.  1.  1.]]\n"
     ]
    }
   ],
   "source": [
    "print mtx[10:20]"
   ]
  },
  {
   "cell_type": "code",
   "execution_count": null,
   "metadata": {
    "collapsed": true
   },
   "outputs": [],
   "source": []
  }
 ],
 "metadata": {
  "anaconda-cloud": {},
  "kernelspec": {
   "display_name": "Python 2",
   "language": "python",
   "name": "python2"
  },
  "language_info": {
   "codemirror_mode": {
    "name": "ipython",
    "version": 2
   },
   "file_extension": ".py",
   "mimetype": "text/x-python",
   "name": "python",
   "nbconvert_exporter": "python",
   "pygments_lexer": "ipython2",
   "version": "2.7.13"
  },
  "widgets": {
   "state": {
    "a4a44beba32145cf828848ab2df95dbc": {
     "views": [
      {
       "cell_index": 3
      }
     ]
    }
   },
   "version": "1.2.0"
  }
 },
 "nbformat": 4,
 "nbformat_minor": 0
}
